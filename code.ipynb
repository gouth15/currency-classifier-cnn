{
 "cells": [
  {
   "cell_type": "code",
   "execution_count": 1,
   "id": "bad12017-b260-41cb-943e-41b2f816a59a",
   "metadata": {
    "tags": []
   },
   "outputs": [],
   "source": [
    "import os\n",
    "from warnings import filterwarnings\n",
    "filterwarnings('ignore')\n",
    "\n",
    "from sklearn.utils import shuffle\n",
    "from sklearn.model_selection import train_test_split\n",
    "from sklearn.metrics import confusion_matrix, accuracy_score, classification_report"
   ]
  },
  {
   "cell_type": "code",
   "execution_count": 2,
   "id": "8193a416-34d2-412a-a889-29aa292dee49",
   "metadata": {
    "tags": []
   },
   "outputs": [],
   "source": [
    "import tensorflow as tf\n",
    "import keras\n",
    "\n",
    "from tensorflow.keras.models import Sequential\n",
    "from tensorflow.keras.layers import Dense, Activation, Dropout, MaxPool2D, Conv2D, MaxPooling2D, Flatten\n",
    "from tensorflow.keras.optimizers import Adam\n",
    "from tensorflow.keras.preprocessing.image import ImageDataGenerator\n",
    "\n",
    "import cv2\n",
    "import numpy as np\n",
    "import matplotlib.pyplot as plt"
   ]
  },
  {
   "cell_type": "code",
   "execution_count": 3,
   "id": "99e1a700-27ba-4f2e-9e0d-b712dbb10ffa",
   "metadata": {
    "tags": []
   },
   "outputs": [],
   "source": [
    "img_width, img_height = 150, 150\n",
    "batch_size = 32\n",
    "epochs = 10"
   ]
  },
  {
   "cell_type": "code",
   "execution_count": 16,
   "id": "f7250a1a-a346-44f6-a4ec-b4ab8db8f3cb",
   "metadata": {
    "tags": []
   },
   "outputs": [],
   "source": [
    "path = \"D://Project//model_6\"\n",
    "train_data = \"data3//train\"\n",
    "test_data = \"data3//test\""
   ]
  },
  {
   "cell_type": "code",
   "execution_count": 17,
   "id": "80ca2a26-b641-4eb4-a940-ca90e59aa019",
   "metadata": {
    "tags": []
   },
   "outputs": [],
   "source": [
    "from glob import glob"
   ]
  },
  {
   "cell_type": "code",
   "execution_count": 18,
   "id": "638554b5-8c35-464b-83de-63892978b9d0",
   "metadata": {
    "tags": []
   },
   "outputs": [
    {
     "data": {
      "text/plain": [
       "['data//train\\\\10\\\\',\n",
       " 'data//train\\\\100\\\\',\n",
       " 'data//train\\\\20\\\\',\n",
       " 'data//train\\\\200\\\\',\n",
       " 'data//train\\\\2000\\\\',\n",
       " 'data//train\\\\50\\\\',\n",
       " 'data//train\\\\500\\\\']"
      ]
     },
     "execution_count": 18,
     "metadata": {},
     "output_type": "execute_result"
    }
   ],
   "source": [
    "glob(\"data//train//*//\")"
   ]
  },
  {
   "cell_type": "code",
   "execution_count": 19,
   "id": "d92f1ee5-57f3-4eba-b638-7f60ae7cf1ca",
   "metadata": {
    "tags": []
   },
   "outputs": [],
   "source": [
    "labels = [\"10\", \"100\", \"20\", \"200\", \"2000\", \"50\", \"500\"]"
   ]
  },
  {
   "cell_type": "code",
   "execution_count": 20,
   "id": "c022899f-5a6b-438c-b1b9-62d147ebb9ed",
   "metadata": {
    "tags": []
   },
   "outputs": [],
   "source": [
    "trainGen = ImageDataGenerator(rescale = 1./255, shear_range = 0.2, horizontal_flip = True, zoom_range = 0.2)\n",
    "testGen = ImageDataGenerator(rescale = 1./ 255)"
   ]
  },
  {
   "cell_type": "code",
   "execution_count": 21,
   "id": "c1159f53-8526-4bd7-9cd6-27841e48968c",
   "metadata": {
    "tags": []
   },
   "outputs": [
    {
     "name": "stdout",
     "output_type": "stream",
     "text": [
      "Found 1050 images belonging to 7 classes.\n",
      "Found 175 images belonging to 7 classes.\n"
     ]
    }
   ],
   "source": [
    "train = trainGen.flow_from_directory(train_data, target_size = (img_height, img_width), classes = labels, class_mode = \"categorical\", batch_size = batch_size, shuffle = True)\n",
    "test = testGen.flow_from_directory(test_data, target_size = (img_height, img_width), classes = labels, class_mode = \"categorical\", batch_size = batch_size, shuffle = True)"
   ]
  },
  {
   "cell_type": "code",
   "execution_count": 22,
   "id": "da6f465c-f0ca-428e-a229-1e49892efc6d",
   "metadata": {
    "tags": []
   },
   "outputs": [],
   "source": [
    "model = Sequential()\n",
    "\n",
    "model.add(Conv2D(128, (3, 3), input_shape = (img_height, img_width, 3), padding = \"same\", activation = \"relu\"))\n",
    "model.add(MaxPool2D(pool_size = (2, 2)))\n",
    "\n",
    "model.add(Conv2D(64, 3, 3, padding = \"same\", activation = \"relu\"))\n",
    "model.add(MaxPool2D(pool_size = (2, 2)))\n",
    "model.add(Dropout(0.2))\n",
    "\n",
    "model.add(Conv2D(32, 3, 3, padding = \"same\", activation = \"relu\"))\n",
    "model.add(MaxPool2D(pool_size = (2, 2)))\n",
    "model.add(Dropout(0.2))\n",
    "\n",
    "model.add(Dense(32, activation = \"relu\"))\n",
    "\n",
    "model.add(Flatten())\n",
    "\n",
    "model.add(Dense(32, activation = \"relu\"))\n",
    "model.add(Dense(7, activation = \"softmax\"))"
   ]
  },
  {
   "cell_type": "code",
   "execution_count": 23,
   "id": "84603f6e-3652-4b77-b9bc-a900a356aac8",
   "metadata": {
    "tags": []
   },
   "outputs": [
    {
     "name": "stdout",
     "output_type": "stream",
     "text": [
      "Model: \"sequential\"\n",
      "_________________________________________________________________\n",
      " Layer (type)                Output Shape              Param #   \n",
      "=================================================================\n",
      " conv2d (Conv2D)             (None, 150, 150, 128)     3584      \n",
      "                                                                 \n",
      " max_pooling2d (MaxPooling2  (None, 75, 75, 128)       0         \n",
      " D)                                                              \n",
      "                                                                 \n",
      " conv2d_1 (Conv2D)           (None, 25, 25, 64)        73792     \n",
      "                                                                 \n",
      " max_pooling2d_1 (MaxPoolin  (None, 12, 12, 64)        0         \n",
      " g2D)                                                            \n",
      "                                                                 \n",
      " dropout (Dropout)           (None, 12, 12, 64)        0         \n",
      "                                                                 \n",
      " conv2d_2 (Conv2D)           (None, 4, 4, 32)          18464     \n",
      "                                                                 \n",
      " max_pooling2d_2 (MaxPoolin  (None, 2, 2, 32)          0         \n",
      " g2D)                                                            \n",
      "                                                                 \n",
      " dropout_1 (Dropout)         (None, 2, 2, 32)          0         \n",
      "                                                                 \n",
      " dense (Dense)               (None, 2, 2, 32)          1056      \n",
      "                                                                 \n",
      " flatten (Flatten)           (None, 128)               0         \n",
      "                                                                 \n",
      " dense_1 (Dense)             (None, 32)                4128      \n",
      "                                                                 \n",
      " dense_2 (Dense)             (None, 7)                 231       \n",
      "                                                                 \n",
      "=================================================================\n",
      "Total params: 101255 (395.53 KB)\n",
      "Trainable params: 101255 (395.53 KB)\n",
      "Non-trainable params: 0 (0.00 Byte)\n",
      "_________________________________________________________________\n"
     ]
    }
   ],
   "source": [
    "model.summary()"
   ]
  },
  {
   "cell_type": "code",
   "execution_count": 24,
   "id": "bacdf9ef-9fb0-4dcf-91ae-aa61649ad21f",
   "metadata": {
    "tags": []
   },
   "outputs": [],
   "source": [
    "model.compile(optimizer = \"adam\", loss = \"categorical_crossentropy\", metrics = [\"accuracy\"])"
   ]
  },
  {
   "cell_type": "code",
   "execution_count": 25,
   "id": "f1ed9364-5f84-40c4-88a3-38c626ad7fbe",
   "metadata": {
    "tags": []
   },
   "outputs": [],
   "source": [
    "epochs = 20"
   ]
  },
  {
   "cell_type": "code",
   "execution_count": 26,
   "id": "8faa3ff1-f97e-455c-a296-8dafdc9132ae",
   "metadata": {
    "tags": []
   },
   "outputs": [],
   "source": [
    "checkpoint_path = \"checkpoint2//cp.ckpt\"\n",
    "checkpoint_dir = \"checkpoint2\""
   ]
  },
  {
   "cell_type": "code",
   "execution_count": 27,
   "id": "3c5074bc-f639-4c9e-9623-5d4a2ce2eb12",
   "metadata": {
    "tags": []
   },
   "outputs": [],
   "source": [
    "cp_callback = tf.keras.callbacks.ModelCheckpoint(checkpoint_path, save_weights_only = True, verbose = 1)"
   ]
  },
  {
   "cell_type": "code",
   "execution_count": 28,
   "id": "c9838d50-3942-4387-b6c9-7669eb744f0a",
   "metadata": {
    "tags": []
   },
   "outputs": [],
   "source": [
    "early_stopping = tf.keras.callbacks.EarlyStopping(monitor = 'loss', patience = 10,  restore_best_weights = True)"
   ]
  },
  {
   "cell_type": "code",
   "execution_count": 29,
   "id": "aa5c68f8-02b2-4fd9-9d9b-a678899fdfad",
   "metadata": {
    "tags": []
   },
   "outputs": [
    {
     "name": "stdout",
     "output_type": "stream",
     "text": [
      "Epoch 1/20\n",
      "33/33 [==============================] - ETA: 0s - loss: 1.9321 - accuracy: 0.1486\n",
      "Epoch 1: saving model to checkpoint2\\cp.ckpt\n",
      "33/33 [==============================] - 25s 723ms/step - loss: 1.9321 - accuracy: 0.1486 - val_loss: 1.8729 - val_accuracy: 0.2343\n",
      "Epoch 2/20\n",
      "33/33 [==============================] - ETA: 0s - loss: 1.6646 - accuracy: 0.2952\n",
      "Epoch 2: saving model to checkpoint2\\cp.ckpt\n",
      "33/33 [==============================] - 24s 724ms/step - loss: 1.6646 - accuracy: 0.2952 - val_loss: 1.3503 - val_accuracy: 0.3829\n",
      "Epoch 3/20\n",
      "33/33 [==============================] - ETA: 0s - loss: 1.3092 - accuracy: 0.4352\n",
      "Epoch 3: saving model to checkpoint2\\cp.ckpt\n",
      "33/33 [==============================] - 24s 720ms/step - loss: 1.3092 - accuracy: 0.4352 - val_loss: 0.9975 - val_accuracy: 0.6971\n",
      "Epoch 4/20\n",
      "33/33 [==============================] - ETA: 0s - loss: 1.0716 - accuracy: 0.5829\n",
      "Epoch 4: saving model to checkpoint2\\cp.ckpt\n",
      "33/33 [==============================] - 24s 730ms/step - loss: 1.0716 - accuracy: 0.5829 - val_loss: 0.7763 - val_accuracy: 0.7371\n",
      "Epoch 5/20\n",
      "33/33 [==============================] - ETA: 0s - loss: 0.7558 - accuracy: 0.7210\n",
      "Epoch 5: saving model to checkpoint2\\cp.ckpt\n",
      "33/33 [==============================] - 25s 743ms/step - loss: 0.7558 - accuracy: 0.7210 - val_loss: 0.4308 - val_accuracy: 0.9200\n",
      "Epoch 6/20\n",
      "33/33 [==============================] - ETA: 0s - loss: 0.6038 - accuracy: 0.7733\n",
      "Epoch 6: saving model to checkpoint2\\cp.ckpt\n",
      "33/33 [==============================] - 25s 752ms/step - loss: 0.6038 - accuracy: 0.7733 - val_loss: 0.3172 - val_accuracy: 0.9257\n",
      "Epoch 7/20\n",
      "33/33 [==============================] - ETA: 0s - loss: 0.5491 - accuracy: 0.7990\n",
      "Epoch 7: saving model to checkpoint2\\cp.ckpt\n",
      "33/33 [==============================] - 25s 746ms/step - loss: 0.5491 - accuracy: 0.7990 - val_loss: 0.3618 - val_accuracy: 0.8514\n",
      "Epoch 8/20\n",
      "33/33 [==============================] - ETA: 0s - loss: 0.4558 - accuracy: 0.8286\n",
      "Epoch 8: saving model to checkpoint2\\cp.ckpt\n",
      "33/33 [==============================] - 25s 752ms/step - loss: 0.4558 - accuracy: 0.8286 - val_loss: 0.2211 - val_accuracy: 0.9314\n",
      "Epoch 9/20\n",
      "33/33 [==============================] - ETA: 0s - loss: 0.4102 - accuracy: 0.8514\n",
      "Epoch 9: saving model to checkpoint2\\cp.ckpt\n",
      "33/33 [==============================] - 25s 753ms/step - loss: 0.4102 - accuracy: 0.8514 - val_loss: 0.2166 - val_accuracy: 0.9314\n",
      "Epoch 10/20\n",
      "33/33 [==============================] - ETA: 0s - loss: 0.4478 - accuracy: 0.8333\n",
      "Epoch 10: saving model to checkpoint2\\cp.ckpt\n",
      "33/33 [==============================] - 25s 754ms/step - loss: 0.4478 - accuracy: 0.8333 - val_loss: 0.2076 - val_accuracy: 0.9600\n",
      "Epoch 11/20\n",
      "33/33 [==============================] - ETA: 0s - loss: 0.3799 - accuracy: 0.8600\n",
      "Epoch 11: saving model to checkpoint2\\cp.ckpt\n",
      "33/33 [==============================] - 25s 766ms/step - loss: 0.3799 - accuracy: 0.8600 - val_loss: 0.1568 - val_accuracy: 0.9657\n",
      "Epoch 12/20\n",
      "33/33 [==============================] - ETA: 0s - loss: 0.3190 - accuracy: 0.8743\n",
      "Epoch 12: saving model to checkpoint2\\cp.ckpt\n",
      "33/33 [==============================] - 27s 800ms/step - loss: 0.3190 - accuracy: 0.8743 - val_loss: 0.2015 - val_accuracy: 0.9143\n",
      "Epoch 13/20\n",
      "33/33 [==============================] - ETA: 0s - loss: 0.3109 - accuracy: 0.8990\n",
      "Epoch 13: saving model to checkpoint2\\cp.ckpt\n",
      "33/33 [==============================] - 32s 967ms/step - loss: 0.3109 - accuracy: 0.8990 - val_loss: 0.1194 - val_accuracy: 0.9600\n",
      "Epoch 14/20\n",
      "33/33 [==============================] - ETA: 0s - loss: 0.2994 - accuracy: 0.8952\n",
      "Epoch 14: saving model to checkpoint2\\cp.ckpt\n",
      "33/33 [==============================] - 35s 1s/step - loss: 0.2994 - accuracy: 0.8952 - val_loss: 0.1313 - val_accuracy: 0.9600\n",
      "Epoch 15/20\n",
      "33/33 [==============================] - ETA: 0s - loss: 0.2357 - accuracy: 0.9152\n",
      "Epoch 15: saving model to checkpoint2\\cp.ckpt\n",
      "33/33 [==============================] - 25s 742ms/step - loss: 0.2357 - accuracy: 0.9152 - val_loss: 0.1433 - val_accuracy: 0.9314\n",
      "Epoch 16/20\n",
      "33/33 [==============================] - ETA: 0s - loss: 0.2442 - accuracy: 0.9105\n",
      "Epoch 16: saving model to checkpoint2\\cp.ckpt\n",
      "33/33 [==============================] - 25s 740ms/step - loss: 0.2442 - accuracy: 0.9105 - val_loss: 0.1185 - val_accuracy: 0.9543\n",
      "Epoch 17/20\n",
      "33/33 [==============================] - ETA: 0s - loss: 0.2953 - accuracy: 0.8943\n",
      "Epoch 17: saving model to checkpoint2\\cp.ckpt\n",
      "33/33 [==============================] - 25s 750ms/step - loss: 0.2953 - accuracy: 0.8943 - val_loss: 0.2239 - val_accuracy: 0.8971\n",
      "Epoch 18/20\n",
      "33/33 [==============================] - ETA: 0s - loss: 0.2537 - accuracy: 0.9124\n",
      "Epoch 18: saving model to checkpoint2\\cp.ckpt\n",
      "33/33 [==============================] - 25s 752ms/step - loss: 0.2537 - accuracy: 0.9124 - val_loss: 0.1298 - val_accuracy: 0.9486\n",
      "Epoch 19/20\n",
      "33/33 [==============================] - ETA: 0s - loss: 0.2349 - accuracy: 0.9248\n",
      "Epoch 19: saving model to checkpoint2\\cp.ckpt\n",
      "33/33 [==============================] - 25s 758ms/step - loss: 0.2349 - accuracy: 0.9248 - val_loss: 0.0718 - val_accuracy: 0.9829\n",
      "Epoch 20/20\n",
      "33/33 [==============================] - ETA: 0s - loss: 0.2504 - accuracy: 0.9105\n",
      "Epoch 20: saving model to checkpoint2\\cp.ckpt\n",
      "33/33 [==============================] - 25s 753ms/step - loss: 0.2504 - accuracy: 0.9105 - val_loss: 0.0792 - val_accuracy: 0.9714\n"
     ]
    },
    {
     "data": {
      "text/plain": [
       "<keras.src.callbacks.History at 0x297873dafd0>"
      ]
     },
     "execution_count": 29,
     "metadata": {},
     "output_type": "execute_result"
    }
   ],
   "source": [
    "model.fit(train, epochs = epochs, validation_data = test, callbacks = [early_stopping, cp_callback])"
   ]
  },
  {
   "cell_type": "code",
   "execution_count": 30,
   "id": "c971bd86-a7db-449a-9dfa-1859e42d7383",
   "metadata": {
    "tags": []
   },
   "outputs": [
    {
     "data": {
      "text/plain": [
       "['checkpoint', 'cp.ckpt.data-00000-of-00001', 'cp.ckpt.index']"
      ]
     },
     "execution_count": 30,
     "metadata": {},
     "output_type": "execute_result"
    }
   ],
   "source": [
    "import os\n",
    "os.listdir(checkpoint_dir)"
   ]
  },
  {
   "cell_type": "code",
   "execution_count": 31,
   "id": "e733cd56-20dd-43f9-aeb7-c9ab55841489",
   "metadata": {
    "tags": []
   },
   "outputs": [
    {
     "data": {
      "text/plain": [
       "[1.9320989847183228,\n",
       " 1.664560317993164,\n",
       " 1.3092389106750488,\n",
       " 1.0716462135314941,\n",
       " 0.7558180689811707,\n",
       " 0.6037750840187073,\n",
       " 0.5491011142730713,\n",
       " 0.4557681381702423,\n",
       " 0.41018277406692505,\n",
       " 0.4477578401565552,\n",
       " 0.3798619210720062,\n",
       " 0.31895333528518677,\n",
       " 0.31090518832206726,\n",
       " 0.29937049746513367,\n",
       " 0.23568350076675415,\n",
       " 0.24419532716274261,\n",
       " 0.29526716470718384,\n",
       " 0.2537257671356201,\n",
       " 0.2349046766757965,\n",
       " 0.2503543794155121]"
      ]
     },
     "execution_count": 31,
     "metadata": {},
     "output_type": "execute_result"
    }
   ],
   "source": [
    "train_loss = model.history.history[\"loss\"]\n",
    "train_loss"
   ]
  },
  {
   "cell_type": "code",
   "execution_count": 32,
   "id": "0c530bb8-7822-4a62-8431-83873e2a0093",
   "metadata": {
    "tags": []
   },
   "outputs": [
    {
     "data": {
      "text/plain": [
       "[1.8729251623153687,\n",
       " 1.3503211736679077,\n",
       " 0.9974768161773682,\n",
       " 0.7762822508811951,\n",
       " 0.43076878786087036,\n",
       " 0.3172246515750885,\n",
       " 0.3618163764476776,\n",
       " 0.22114314138889313,\n",
       " 0.2165597379207611,\n",
       " 0.20756743848323822,\n",
       " 0.15682800114154816,\n",
       " 0.20151373744010925,\n",
       " 0.11939489841461182,\n",
       " 0.13129091262817383,\n",
       " 0.14327338337898254,\n",
       " 0.11846313625574112,\n",
       " 0.22392325103282928,\n",
       " 0.12982390820980072,\n",
       " 0.07180564105510712,\n",
       " 0.07920059561729431]"
      ]
     },
     "execution_count": 32,
     "metadata": {},
     "output_type": "execute_result"
    }
   ],
   "source": [
    "test_loss = model.history.history[\"val_loss\"]\n",
    "test_loss"
   ]
  },
  {
   "cell_type": "code",
   "execution_count": 33,
   "id": "ce05af5e-f2ad-4164-ad06-81923f5321b6",
   "metadata": {
    "tags": []
   },
   "outputs": [
    {
     "data": {
      "image/png": "[encoded data removed]",
      "text/plain": [
       "<Figure size 1600x800 with 1 Axes>"
      ]
     },
     "metadata": {},
     "output_type": "display_data"
    }
   ],
   "source": [
    "plt.figure(figsize = (16, 8))\n",
    "plt.plot(np.arange(20), train_loss, color = 'red', label = \"train_loss\")\n",
    "plt.plot(np.arange(20), test_loss, color = 'blue', label = \"test_loss\")\n",
    "plt.legend()\n",
    "plt.xlabel('Epcohs')\n",
    "plt.show()"
   ]
  },
  {
   "cell_type": "code",
   "execution_count": 38,
   "id": "e81db845-74ca-43c5-8430-f2fb7f11bc12",
   "metadata": {
    "tags": []
   },
   "outputs": [
    {
     "data": {
      "text/plain": [
       "[0.23428571224212646,\n",
       " 0.38285714387893677,\n",
       " 0.6971428394317627,\n",
       " 0.7371428608894348,\n",
       " 0.9200000166893005,\n",
       " 0.9257143139839172,\n",
       " 0.8514285683631897,\n",
       " 0.9314285516738892,\n",
       " 0.9314285516738892,\n",
       " 0.9599999785423279,\n",
       " 0.9657142758369446,\n",
       " 0.9142857193946838,\n",
       " 0.9599999785423279,\n",
       " 0.9599999785423279,\n",
       " 0.9314285516738892,\n",
       " 0.954285740852356,\n",
       " 0.8971428275108337,\n",
       " 0.9485714435577393,\n",
       " 0.9828571677207947,\n",
       " 0.9714285731315613]"
      ]
     },
     "execution_count": 38,
     "metadata": {},
     "output_type": "execute_result"
    }
   ],
   "source": [
    "test_acc = model.history.history[\"val_accuracy\"]\n",
    "test_acc"
   ]
  },
  {
   "cell_type": "code",
   "execution_count": 39,
   "id": "aeed9a38-6223-4923-9b07-4a89ddb776e2",
   "metadata": {
    "tags": []
   },
   "outputs": [
    {
     "data": {
      "text/plain": [
       "[0.1485714316368103,\n",
       " 0.29523810744285583,\n",
       " 0.4352380931377411,\n",
       " 0.5828571319580078,\n",
       " 0.7209523916244507,\n",
       " 0.7733333110809326,\n",
       " 0.799047589302063,\n",
       " 0.8285714387893677,\n",
       " 0.8514285683631897,\n",
       " 0.8333333134651184,\n",
       " 0.8600000143051147,\n",
       " 0.8742856979370117,\n",
       " 0.8990476131439209,\n",
       " 0.8952381014823914,\n",
       " 0.915238082408905,\n",
       " 0.9104762077331543,\n",
       " 0.8942857384681702,\n",
       " 0.9123809337615967,\n",
       " 0.9247618913650513,\n",
       " 0.9104762077331543]"
      ]
     },
     "execution_count": 39,
     "metadata": {},
     "output_type": "execute_result"
    }
   ],
   "source": [
    "train_acc = model.history.history[\"accuracy\"]\n",
    "train_acc"
   ]
  },
  {
   "cell_type": "code",
   "execution_count": 40,
   "id": "8caface9-0d44-4cb8-a146-40e9dbf991bf",
   "metadata": {
    "tags": []
   },
   "outputs": [
    {
     "data": {
      "image/png": "[encoded data removed]",
      "text/plain": [
       "<Figure size 1600x800 with 1 Axes>"
      ]
     },
     "metadata": {},
     "output_type": "display_data"
    }
   ],
   "source": [
    "plt.figure(figsize = (16, 8))\n",
    "plt.plot(np.arange(20), train_acc, color = 'red', label = \"train_accuracy\")\n",
    "plt.plot(np.arange(20), test_acc, color = 'blue', label = \"test_accuracy\")\n",
    "plt.legend()\n",
    "plt.xlabel('Epcohs')\n",
    "plt.show()"
   ]
  },
  {
   "cell_type": "code",
   "execution_count": 41,
   "id": "5c7ce235-98b6-44ed-95bc-555dee762533",
   "metadata": {
    "tags": []
   },
   "outputs": [],
   "source": [
    "from keras.preprocessing import image"
   ]
  },
  {
   "cell_type": "code",
   "execution_count": 42,
   "id": "7d55c4d9-6e25-430f-8df0-21f3f9862cd2",
   "metadata": {
    "tags": []
   },
   "outputs": [
    {
     "data": {
      "text/plain": [
       "['10', '100', '20', '200', '2000', '50', '500']"
      ]
     },
     "execution_count": 42,
     "metadata": {},
     "output_type": "execute_result"
    }
   ],
   "source": [
    "labels"
   ]
  },
  {
   "cell_type": "code",
   "execution_count": 43,
   "id": "ea8dfd1a-3a78-497e-9b33-ed9e055258a1",
   "metadata": {
    "tags": []
   },
   "outputs": [],
   "source": [
    "def predict_note(path):\n",
    "\n",
    "    img_pred = image.load_img(path, target_size=(img_height, img_width))\n",
    "    img_pred = image.img_to_array(img_pred)\n",
    "    img = np.expand_dims(img_pred, axis=0)\n",
    "\n",
    "    predictions = model.predict(img)\n",
    "    predicted_class_index = np.argmax(predictions)\n",
    "    \n",
    "    class_labels = [\"10\", \"100\", \"20\", \"200\", \"2000\", \"50\", \"500\"]\n",
    "    \n",
    "    prediction = class_labels[predicted_class_index]\n",
    "\n",
    "    probability = predictions[0][predicted_class_index]\n",
    "\n",
    "    print(\"Predicted Class:\", prediction)\n",
    "    print(\"Probability:\", probability)\n"
   ]
  },
  {
   "cell_type": "code",
   "execution_count": 44,
   "id": "002e44b3-e7e5-4ec4-89da-915b47d0075f",
   "metadata": {
    "tags": []
   },
   "outputs": [
    {
     "name": "stdout",
     "output_type": "stream",
     "text": [
      "1/1 [==============================] - 0s 255ms/step\n",
      "Predicted Class: 10\n",
      "Probability: 1.0\n"
     ]
    }
   ],
   "source": [
    "predict_note(\"data/test/10/343_sharp.png\")"
   ]
  },
  {
   "cell_type": "code",
   "execution_count": 45,
   "id": "421e4919-6ef7-4736-9b06-1bffdbf04f1c",
   "metadata": {
    "tags": []
   },
   "outputs": [
    {
     "name": "stdout",
     "output_type": "stream",
     "text": [
      "1/1 [==============================] - 0s 39ms/step\n",
      "Predicted Class: 10\n",
      "Probability: 1.0\n"
     ]
    }
   ],
   "source": [
    "predict_note(\"data/test/10/345.png\")"
   ]
  },
  {
   "cell_type": "code",
   "execution_count": 46,
   "id": "009faf0f-1414-4158-9fd8-3b47b4ab6cc4",
   "metadata": {
    "tags": []
   },
   "outputs": [
    {
     "name": "stdout",
     "output_type": "stream",
     "text": [
      "1/1 [==============================] - 0s 45ms/step\n",
      "Predicted Class: 20\n",
      "Probability: 1.0\n"
     ]
    }
   ],
   "source": [
    "predict_note(\"data/test/20/252_sharp.png\")"
   ]
  },
  {
   "cell_type": "code",
   "execution_count": 47,
   "id": "7c6fc1fa-a007-4ebd-8a71-96a6284808b5",
   "metadata": {
    "tags": []
   },
   "outputs": [
    {
     "name": "stdout",
     "output_type": "stream",
     "text": [
      "1/1 [==============================] - 0s 49ms/step\n",
      "Predicted Class: 20\n",
      "Probability: 1.0\n"
     ]
    }
   ],
   "source": [
    "predict_note(\"data/test/20/255.png\")"
   ]
  },
  {
   "cell_type": "code",
   "execution_count": 48,
   "id": "b9d2ab51-ca1c-4960-9d38-72484dc879a0",
   "metadata": {
    "tags": []
   },
   "outputs": [
    {
     "name": "stdout",
     "output_type": "stream",
     "text": [
      "1/1 [==============================] - 0s 39ms/step\n",
      "Predicted Class: 50\n",
      "Probability: 1.0\n"
     ]
    }
   ],
   "source": [
    "predict_note(\"data/test/50/203_sharp.png\")"
   ]
  },
  {
   "cell_type": "code",
   "execution_count": 49,
   "id": "d7c78d3f-572b-4bb0-8529-454d0197198e",
   "metadata": {
    "tags": []
   },
   "outputs": [
    {
     "name": "stdout",
     "output_type": "stream",
     "text": [
      "1/1 [==============================] - 0s 32ms/step\n",
      "Predicted Class: 50\n",
      "Probability: 1.0\n"
     ]
    }
   ],
   "source": [
    "predict_note(\"data/test/50/250_cb.png\")"
   ]
  },
  {
   "cell_type": "code",
   "execution_count": 50,
   "id": "186ae317-b498-4c1b-99eb-4f233bf5f1b8",
   "metadata": {
    "tags": []
   },
   "outputs": [
    {
     "name": "stdout",
     "output_type": "stream",
     "text": [
      "1/1 [==============================] - 0s 40ms/step\n",
      "Predicted Class: 100\n",
      "Probability: 1.0\n"
     ]
    }
   ],
   "source": [
    "predict_note(\"data/test/100/155.png\")"
   ]
  },
  {
   "cell_type": "code",
   "execution_count": 51,
   "id": "cb8140fd-7dc1-48ca-b992-e19eba12a538",
   "metadata": {
    "tags": []
   },
   "outputs": [
    {
     "name": "stdout",
     "output_type": "stream",
     "text": [
      "1/1 [==============================] - 0s 37ms/step\n",
      "Predicted Class: 100\n",
      "Probability: 1.0\n"
     ]
    }
   ],
   "source": [
    "predict_note(\"data/test/100/194.png\")"
   ]
  },
  {
   "cell_type": "code",
   "execution_count": 52,
   "id": "ffe90f1e-2e92-4be2-8d80-61687fa2a5ea",
   "metadata": {
    "tags": []
   },
   "outputs": [
    {
     "name": "stdout",
     "output_type": "stream",
     "text": [
      "1/1 [==============================] - 0s 39ms/step\n",
      "Predicted Class: 200\n",
      "Probability: 1.0\n"
     ]
    }
   ],
   "source": [
    "predict_note(\"data/test/200/142_sharp.png\")"
   ]
  },
  {
   "cell_type": "code",
   "execution_count": 53,
   "id": "c619c118-89b7-4b69-b26a-a20f567c6595",
   "metadata": {
    "tags": []
   },
   "outputs": [
    {
     "name": "stdout",
     "output_type": "stream",
     "text": [
      "1/1 [==============================] - 0s 50ms/step\n",
      "Predicted Class: 200\n",
      "Probability: 1.0\n"
     ]
    }
   ],
   "source": [
    "predict_note(\"data/test/200/150.png\")"
   ]
  },
  {
   "cell_type": "code",
   "execution_count": 54,
   "id": "ef9e6c49-ab6f-44c8-9b36-11e8570cccc3",
   "metadata": {
    "tags": []
   },
   "outputs": [
    {
     "name": "stdout",
     "output_type": "stream",
     "text": [
      "1/1 [==============================] - 0s 38ms/step\n",
      "Predicted Class: 500\n",
      "Probability: 1.0\n"
     ]
    }
   ],
   "source": [
    "predict_note(\"data/test/500/99_sharp.png\")"
   ]
  },
  {
   "cell_type": "code",
   "execution_count": 55,
   "id": "0e8f2e2c-e007-49a6-9443-dcff9d5110fa",
   "metadata": {
    "tags": []
   },
   "outputs": [
    {
     "name": "stdout",
     "output_type": "stream",
     "text": [
      "1/1 [==============================] - 0s 53ms/step\n",
      "Predicted Class: 200\n",
      "Probability: 1.0\n"
     ]
    }
   ],
   "source": [
    "predict_note(\"data/test/500/96.png\")"
   ]
  },
  {
   "cell_type": "code",
   "execution_count": 56,
   "id": "edcfd6df-cae9-480f-94f0-af8d5bb366ef",
   "metadata": {
    "tags": []
   },
   "outputs": [
    {
     "name": "stdout",
     "output_type": "stream",
     "text": [
      "1/1 [==============================] - 0s 38ms/step\n",
      "Predicted Class: 2000\n",
      "Probability: 1.0\n"
     ]
    }
   ],
   "source": [
    "predict_note(\"data/test/2000/47.png\")"
   ]
  },
  {
   "cell_type": "code",
   "execution_count": 57,
   "id": "521823cc-9544-4359-9016-3fd4c24bdbce",
   "metadata": {
    "tags": []
   },
   "outputs": [
    {
     "name": "stdout",
     "output_type": "stream",
     "text": [
      "1/1 [==============================] - 0s 36ms/step\n",
      "Predicted Class: 2000\n",
      "Probability: 1.0\n"
     ]
    }
   ],
   "source": [
    "predict_note(\"data/test/2000/16.png\")"
   ]
  },
  {
   "cell_type": "code",
   "execution_count": 42,
   "id": "c472151c-6cab-4184-bc32-39619b52c048",
   "metadata": {
    "tags": []
   },
   "outputs": [],
   "source": [
    "from tensorflow.keras.models import load_model"
   ]
  },
  {
   "cell_type": "code",
   "execution_count": 58,
   "id": "64515805-0875-49be-92a1-4747e5e590ec",
   "metadata": {
    "tags": []
   },
   "outputs": [
    {
     "name": "stdout",
     "output_type": "stream",
     "text": [
      "INFO:tensorflow:Assets written to: new_cnn_model_saved\\assets\n"
     ]
    },
    {
     "name": "stderr",
     "output_type": "stream",
     "text": [
      "INFO:tensorflow:Assets written to: new_cnn_model_saved\\assets\n"
     ]
    }
   ],
   "source": [
    "model.save(\"new_cnn_model_saved\")"
   ]
  },
  {
   "cell_type": "code",
   "execution_count": 59,
   "id": "e22690bd-3b08-4215-b66b-d351a59ed5a2",
   "metadata": {
    "tags": []
   },
   "outputs": [],
   "source": [
    "model.save(\"new_cnn_model.h5\")"
   ]
  },
  {
   "cell_type": "code",
   "execution_count": null,
   "id": "fa25d358",
   "metadata": {},
   "outputs": [],
   "source": []
  },
  {
   "cell_type": "code",
   "execution_count": 60,
   "id": "ded0a922-fca4-40e6-b050-3d739dba2dc4",
   "metadata": {
    "tags": []
   },
   "outputs": [],
   "source": [
    "new_model = model.load_weights(checkpoint_path)"
   ]
  },
  {
   "cell_type": "code",
   "execution_count": 61,
   "id": "05e631cf-d57b-4b59-986f-b70b090fa4ca",
   "metadata": {
    "tags": []
   },
   "outputs": [
    {
     "name": "stdout",
     "output_type": "stream",
     "text": [
      "1/1 [==============================] - 0s 41ms/step\n",
      "Predicted Class: 2000\n",
      "Probability: 1.0\n"
     ]
    }
   ],
   "source": [
    "predict_note(\"data/test/2000/16.png\")"
   ]
  },
  {
   "cell_type": "code",
   "execution_count": 62,
   "id": "39d77314-6656-4b7e-b85b-e7594e925caf",
   "metadata": {},
   "outputs": [],
   "source": [
    "model_json = model.to_json()\n",
    "with open(\"model.json\", \"w\") as json_file:\n",
    "    json_file.write(model_json)"
   ]
  },
  {
   "cell_type": "code",
   "execution_count": null,
   "id": "6434bc31-9e16-4b52-a822-61246ec78c57",
   "metadata": {},
   "outputs": [],
   "source": []
  }
 ],
 "metadata": {
  "kernelspec": {
   "display_name": "Python 3 (ipykernel)",
   "language": "python",
   "name": "python3"
  },
  "language_info": {
   "codemirror_mode": {
    "name": "ipython",
    "version": 3
   },
   "file_extension": ".py",
   "mimetype": "text/x-python",
   "name": "python",
   "nbconvert_exporter": "python",
   "pygments_lexer": "ipython3",
   "version": "3.11.5"
  }
 },
 "nbformat": 4,
 "nbformat_minor": 5
}
