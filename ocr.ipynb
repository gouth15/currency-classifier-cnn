{
 "cells": [
  {
   "cell_type": "code",
   "execution_count": 28,
   "id": "a81256a8-b04b-4c99-ade8-65662388788d",
   "metadata": {
    "tags": []
   },
   "outputs": [
    {
     "name": "stdout",
     "output_type": "stream",
     "text": [
      "This currency is real.\n"
     ]
    }
   ],
   "source": [
    "import cv2\n",
    "import pytesseract\n",
    "\n",
    "# Load the image of the currency\n",
    "img = cv2.imread('predict.jpg')\n",
    "\n",
    "# Convert the image to grayscale\n",
    "gray = cv2.cvtColor(img, cv2.COLOR_BGR2GRAY)\n",
    "\n",
    "# Apply thresholding to the image\n",
    "thresh = cv2.threshold(gray, 0, 255, cv2.THRESH_BINARY_INV + cv2.THRESH_OTSU)[1]\n",
    "\n",
    "# Apply dilation to the image\n",
    "kernel = cv2.getStructuringElement(cv2.MORPH_RECT, (3,3))\n",
    "dilate = cv2.dilate(thresh, kernel, iterations=5)\n",
    "\n",
    "# Apply OCR to the image\n",
    "text = pytesseract.image_to_string(dilate)\n",
    "\n",
    "# Check if the text contains any suspicious words\n",
    "if 'fake' in text.lower() or 'replica' in text.lower():\n",
    "    print('This currency is fake!')\n",
    "else:\n",
    "    print('This currency is real.')\n"
   ]
  },
  {
   "cell_type": "code",
   "execution_count": null,
   "id": "19e827fa-d080-4f48-ba06-4871872f1d3d",
   "metadata": {},
   "outputs": [],
   "source": []
  }
 ],
 "metadata": {
  "kernelspec": {
   "display_name": "Python 3 (ipykernel)",
   "language": "python",
   "name": "python3"
  },
  "language_info": {
   "codemirror_mode": {
    "name": "ipython",
    "version": 3
   },
   "file_extension": ".py",
   "mimetype": "text/x-python",
   "name": "python",
   "nbconvert_exporter": "python",
   "pygments_lexer": "ipython3",
   "version": "3.11.5"
  }
 },
 "nbformat": 4,
 "nbformat_minor": 5
}
