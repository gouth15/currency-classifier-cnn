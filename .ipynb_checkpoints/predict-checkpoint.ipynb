{
 "cells": [
  {
   "cell_type": "code",
   "execution_count": 5,
   "id": "cba7f0e7-f612-46b0-a8f2-e26a56ca08c0",
   "metadata": {
    "tags": []
   },
   "outputs": [
    {
     "name": "stdout",
     "output_type": "stream",
     "text": [
      "Predictions for images in folder 'predict':\n",
      "1/1 [==============================] - 0s 361ms/step\n",
      "Image: 100-1.jpg | Predicted Class: 20 | Probability: 1.0\n",
      "1/1 [==============================] - 0s 80ms/step\n",
      "Image: 100-2.jpg | Predicted Class: 20 | Probability: 1.0\n",
      "1/1 [==============================] - 0s 79ms/step\n",
      "Image: 100-3.jpg | Predicted Class: 100 | Probability: 1.0\n",
      "1/1 [==============================] - 0s 82ms/step\n",
      "Image: 20-1.jpg | Predicted Class: 20 | Probability: 1.0\n",
      "1/1 [==============================] - 0s 75ms/step\n",
      "Image: 200-1.jpg | Predicted Class: 200 | Probability: 1.0\n",
      "1/1 [==============================] - 0s 79ms/step\n",
      "Image: 200-2.jpg | Predicted Class: 200 | Probability: 1.0\n",
      "1/1 [==============================] - 0s 75ms/step\n",
      "Image: 200-3.jpg | Predicted Class: 200 | Probability: 1.0\n",
      "1/1 [==============================] - 0s 77ms/step\n",
      "Image: 2000-1.jpg | Predicted Class: 2000 | Probability: 1.0\n",
      "1/1 [==============================] - 0s 80ms/step\n",
      "Image: 2000-2.jpg | Predicted Class: 200 | Probability: 1.0\n",
      "1/1 [==============================] - 0s 82ms/step\n",
      "Image: 50-1.jpg | Predicted Class: 20 | Probability: 1.0\n",
      "1/1 [==============================] - 0s 73ms/step\n",
      "Image: 50-2.jpg | Predicted Class: 50 | Probability: 1.0\n",
      "1/1 [==============================] - 0s 76ms/step\n",
      "Image: 500-1.jpg | Predicted Class: 20 | Probability: 1.0\n",
      "1/1 [==============================] - 0s 75ms/step\n",
      "Image: 500-2.jpg | Predicted Class: 20 | Probability: 1.0\n",
      "1/1 [==============================] - 0s 81ms/step\n",
      "Image: 500-3.jpg | Predicted Class: 20 | Probability: 1.0\n"
     ]
    }
   ],
   "source": [
    "import os\n",
    "import numpy as np\n",
    "from keras.preprocessing import image\n",
    "from keras.models import load_model\n",
    "\n",
    "predict_path = \"predict\"  # Update this path to your main folder containing images\n",
    "class_labels = [\"10\", \"100\", \"20\", \"200\", \"2000\", \"50\", \"500\"]\n",
    "\n",
    "# Load your pre-trained model\n",
    "model = load_model('cnn_model2.h5')\n",
    "\n",
    "print(f\"Predictions for images in folder '{predict_path}':\")\n",
    "\n",
    "for image_name in os.listdir(predict_path):\n",
    "    file_path = os.path.join(predict_path, image_name)\n",
    "    \n",
    "    try:\n",
    "        img_pred = image.load_img(file_path, target_size=(150, 150))\n",
    "        img_pred = image.img_to_array(img_pred)\n",
    "        img = np.expand_dims(img_pred, axis=0)\n",
    "\n",
    "        predictions = model.predict(img)\n",
    "        predicted_class_index = np.argmax(predictions)\n",
    "\n",
    "        prediction = class_labels[predicted_class_index]\n",
    "        probability = predictions[0][predicted_class_index]\n",
    "\n",
    "        print(\"Image:\", image_name, \"| Predicted Class:\", prediction, \"| Probability:\", probability)\n",
    "\n",
    "    except Exception as e:\n",
    "        print(f\"Error processing {image_name}: {e}\")\n"
   ]
  },
  {
   "cell_type": "code",
   "execution_count": null,
   "id": "ef14be64-3c57-4468-b815-233c4439211a",
   "metadata": {},
   "outputs": [],
   "source": []
  }
 ],
 "metadata": {
  "kernelspec": {
   "display_name": "Python 3 (ipykernel)",
   "language": "python",
   "name": "python3"
  },
  "language_info": {
   "codemirror_mode": {
    "name": "ipython",
    "version": 3
   },
   "file_extension": ".py",
   "mimetype": "text/x-python",
   "name": "python",
   "nbconvert_exporter": "python",
   "pygments_lexer": "ipython3",
   "version": "3.11.5"
  }
 },
 "nbformat": 4,
 "nbformat_minor": 5
}
