{
 "cells": [
  {
   "cell_type": "code",
   "execution_count": 1,
   "id": "c9476389-5787-49a1-a6f0-8d7a61d7c487",
   "metadata": {
    "tags": []
   },
   "outputs": [],
   "source": [
    "import os\n",
    "from warnings import filterwarnings\n",
    "filterwarnings('ignore')\n",
    "\n",
    "import cv2\n",
    "import numpy as np\n",
    "import matplotlib.pyplot as plt\n",
    "import seaborn as sns\n",
    "\n",
    "from sklearn.utils import shuffle\n",
    "from sklearn.model_selection import train_test_split\n",
    "from sklearn.metrics import confusion_matrix, accuracy_score, classification_report\n",
    "\n",
    "import tensorflow as tf\n",
    "from tensorflow.keras.models import Sequential\n",
    "from tensorflow.keras.layers import Dense, Activation, Dropout, MaxPooling2D, Conv2D, Flatten\n",
    "from tensorflow.keras.optimizers import Adam\n",
    "from tensorflow.keras.preprocessing.image import ImageDataGenerator\n",
    "from tensorflow.keras.callbacks import ModelCheckpoint, EarlyStopping"
   ]
  },
  {
   "cell_type": "code",
   "execution_count": 2,
   "id": "5c6e5108-6623-4601-af8d-e799b24126f6",
   "metadata": {
    "tags": []
   },
   "outputs": [],
   "source": [
    "path = \"D://Project//fy-project-p1\"\n",
    "train_data = \"data//train\"\n",
    "test_data = \"data//test\"\n",
    "checkpoint_path = \"checkpoint//cp.ckpt\"\n",
    "checkpoint_dir = \"checkpoint\""
   ]
  },
  {
   "cell_type": "code",
   "execution_count": 3,
   "id": "c73e9c81-a16c-40ec-988f-0bcf1f42a37a",
   "metadata": {
    "tags": []
   },
   "outputs": [
    {
     "name": "stdout",
     "output_type": "stream",
     "text": [
      "Found 1050 images belonging to 7 classes.\n",
      "Found 140 images belonging to 7 classes.\n"
     ]
    }
   ],
   "source": [
    "labels = [\"10\", \"100\", \"20\", \"200\", \"2000\", \"50\", \"500\"]\n",
    "trainGen = ImageDataGenerator(rescale=1./255, shear_range=0.2, horizontal_flip=True, zoom_range=0.2)\n",
    "testGen = ImageDataGenerator(rescale=1./255)\n",
    "train = trainGen.flow_from_directory(train_data, target_size=(150, 150), classes=labels, class_mode=\"categorical\", batch_size=32, shuffle=True)\n",
    "test = testGen.flow_from_directory(test_data, target_size=(150, 150), classes=labels, class_mode=\"categorical\", batch_size=32, shuffle=True)"
   ]
  },
  {
   "cell_type": "code",
   "execution_count": 4,
   "id": "92edc87f-d932-4234-8404-26c32052698b",
   "metadata": {
    "tags": []
   },
   "outputs": [
    {
     "name": "stdout",
     "output_type": "stream",
     "text": [
      "Model: \"sequential\"\n",
      "_________________________________________________________________\n",
      " Layer (type)                Output Shape              Param #   \n",
      "=================================================================\n",
      " conv2d (Conv2D)             (None, 150, 150, 128)     3584      \n",
      "                                                                 \n",
      " max_pooling2d (MaxPooling2  (None, 75, 75, 128)       0         \n",
      " D)                                                              \n",
      "                                                                 \n",
      " conv2d_1 (Conv2D)           (None, 75, 75, 64)        73792     \n",
      "                                                                 \n",
      " max_pooling2d_1 (MaxPoolin  (None, 37, 37, 64)        0         \n",
      " g2D)                                                            \n",
      "                                                                 \n",
      " dropout (Dropout)           (None, 37, 37, 64)        0         \n",
      "                                                                 \n",
      " conv2d_2 (Conv2D)           (None, 37, 37, 32)        18464     \n",
      "                                                                 \n",
      " max_pooling2d_2 (MaxPoolin  (None, 18, 18, 32)        0         \n",
      " g2D)                                                            \n",
      "                                                                 \n",
      " dropout_1 (Dropout)         (None, 18, 18, 32)        0         \n",
      "                                                                 \n",
      " flatten (Flatten)           (None, 10368)             0         \n",
      "                                                                 \n",
      " dense (Dense)               (None, 32)                331808    \n",
      "                                                                 \n",
      " dense_1 (Dense)             (None, 7)                 231       \n",
      "                                                                 \n",
      "=================================================================\n",
      "Total params: 427879 (1.63 MB)\n",
      "Trainable params: 427879 (1.63 MB)\n",
      "Non-trainable params: 0 (0.00 Byte)\n",
      "_________________________________________________________________\n"
     ]
    }
   ],
   "source": [
    "model = Sequential()\n",
    "model.add(Conv2D(128, (3, 3), input_shape=(150, 150, 3), padding=\"same\", activation=\"relu\"))\n",
    "model.add(MaxPooling2D(pool_size=(2, 2)))\n",
    "\n",
    "model.add(Conv2D(64, (3, 3), padding=\"same\", activation=\"relu\"))\n",
    "model.add(MaxPooling2D(pool_size=(2, 2)))\n",
    "model.add(Dropout(0.2))\n",
    "\n",
    "model.add(Conv2D(32, (3, 3), padding=\"same\", activation=\"relu\"))\n",
    "model.add(MaxPooling2D(pool_size=(2, 2)))\n",
    "model.add(Dropout(0.2))\n",
    "\n",
    "model.add(Flatten())\n",
    "model.add(Dense(32, activation=\"relu\"))\n",
    "model.add(Dense(7, activation=\"softmax\"))\n",
    "\n",
    "model.summary()"
   ]
  },
  {
   "cell_type": "code",
   "execution_count": 5,
   "id": "bd820776-905a-41dc-a76d-3fc6e58fcf0d",
   "metadata": {
    "tags": []
   },
   "outputs": [],
   "source": [
    "model.compile(optimizer=\"adam\", loss=\"categorical_crossentropy\", metrics=[\"accuracy\"])"
   ]
  },
  {
   "cell_type": "code",
   "execution_count": 6,
   "id": "1ea02ad6-3ba9-4a5e-bc96-240cc634486e",
   "metadata": {
    "tags": []
   },
   "outputs": [],
   "source": [
    "cp_callback = ModelCheckpoint(checkpoint_path, save_weights_only=True, verbose=1)\n",
    "early_stopping = EarlyStopping(monitor='loss', patience=10, restore_best_weights=True)"
   ]
  },
  {
   "cell_type": "code",
   "execution_count": null,
   "id": "57d2b1e5-833f-42a3-8b8d-6476538700d2",
   "metadata": {
    "tags": []
   },
   "outputs": [
    {
     "name": "stdout",
     "output_type": "stream",
     "text": [
      "Epoch 1/30\n",
      "26/33 [======================>.......] - ETA: 17s - loss: 1.9585 - accuracy: 0.1719"
     ]
    }
   ],
   "source": [
    "history = model.fit(train, epochs=30, validation_data=test, callbacks=[early_stopping, cp_callback])"
   ]
  },
  {
   "cell_type": "code",
   "execution_count": null,
   "id": "ffbe86da-91fe-44d3-994c-8ae2d2d35939",
   "metadata": {},
   "outputs": [],
   "source": [
    "def plot_metrics(history):\n",
    "    train_loss = history.history['loss']\n",
    "    val_loss = history.history['val_loss']\n",
    "    train_acc = history.history['accuracy']\n",
    "    val_acc = history.history['val_accuracy']\n",
    "    \n",
    "    plt.figure(figsize=(16, 8))\n",
    "\n",
    "    plt.subplot(1, 2, 1)\n",
    "    plt.plot(train_loss, label='Train Loss', color='red')\n",
    "    plt.plot(val_loss, label='Validation Loss', color='blue')\n",
    "    plt.legend()\n",
    "    plt.xlabel('Epochs')\n",
    "    plt.ylabel('Loss')\n",
    "\n",
    "    plt.subplot(1, 2, 2)\n",
    "    plt.plot(train_acc, label='Train Accuracy', color='red')\n",
    "    plt.plot(val_acc, label='Validation Accuracy', color='blue')\n",
    "    plt.legend()\n",
    "    plt.xlabel('Epochs')\n",
    "    plt.ylabel('Accuracy')\n",
    "\n",
    "    plt.show()\n",
    "\n",
    "plot_metrics(history)"
   ]
  },
  {
   "cell_type": "code",
   "execution_count": null,
   "id": "693907fe-5d68-4175-a78a-395c4cb83680",
   "metadata": {},
   "outputs": [],
   "source": [
    "test_labels = []\n",
    "num_batches = len(test)\n",
    "for i in range(num_batches):\n",
    "    _, batch_labels = test[i]\n",
    "    test_labels.extend(np.argmax(batch_labels, axis=1))\n",
    "\n",
    "predictions = []\n",
    "for i in range(num_batches):\n",
    "    batch_images, _ = test[i]\n",
    "    batch_preds = model.predict(batch_images)\n",
    "    predictions.extend(np.argmax(batch_preds, axis=1))\n",
    "\n",
    "accuracy = accuracy_score(test_labels, predictions)\n",
    "report = classification_report(test_labels, predictions, target_names=labels)\n",
    "conf_matrix = confusion_matrix(test_labels, predictions)\n",
    "\n",
    "print(\"Accuracy:\", accuracy)\n",
    "print(\"Classification Report:\\n\", report)\n",
    "print(\"Confusion Matrix:\\n\", conf_matrix)"
   ]
  },
  {
   "cell_type": "code",
   "execution_count": null,
   "id": "4a3eb699-e56e-4c29-8930-4b05591751b6",
   "metadata": {},
   "outputs": [],
   "source": [
    "plt.figure(figsize=(8, 6))\n",
    "sns.heatmap(conf_matrix, annot=True, fmt='d', cmap='Blues', \n",
    "            xticklabels=labels, yticklabels=labels)\n",
    "plt.xlabel('Predicted Labels')\n",
    "plt.ylabel('True Labels')\n",
    "plt.title('Confusion Matrix')\n",
    "plt.show()"
   ]
  },
  {
   "cell_type": "code",
   "execution_count": null,
   "id": "da1027b3-c55d-48c9-921d-c50f3688d1ee",
   "metadata": {},
   "outputs": [],
   "source": [
    "model.save(\"cnnmodel.h5\")"
   ]
  }
 ],
 "metadata": {
  "kernelspec": {
   "display_name": "Python 3 (ipykernel)",
   "language": "python",
   "name": "python3"
  },
  "language_info": {
   "codemirror_mode": {
    "name": "ipython",
    "version": 3
   },
   "file_extension": ".py",
   "mimetype": "text/x-python",
   "name": "python",
   "nbconvert_exporter": "python",
   "pygments_lexer": "ipython3",
   "version": "3.11.5"
  }
 },
 "nbformat": 4,
 "nbformat_minor": 5
}
