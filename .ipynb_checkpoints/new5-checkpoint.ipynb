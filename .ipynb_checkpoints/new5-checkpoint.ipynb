{
 "cells": [
  {
   "cell_type": "code",
   "execution_count": 5,
   "id": "773bf52d-a765-4c87-bc05-23de6ea857fa",
   "metadata": {
    "tags": []
   },
   "outputs": [
    {
     "name": "stdout",
     "output_type": "stream",
     "text": [
      "WARNING:tensorflow:From C:\\Users\\gouth\\AppData\\Roaming\\Python\\Python311\\site-packages\\keras\\src\\losses.py:2976: The name tf.losses.sparse_softmax_cross_entropy is deprecated. Please use tf.compat.v1.losses.sparse_softmax_cross_entropy instead.\n",
      "\n"
     ]
    }
   ],
   "source": [
    "import tensorflow as tf"
   ]
  },
  {
   "cell_type": "code",
   "execution_count": 6,
   "id": "abceffa1-4a0d-4230-8e67-ffc1ed1fdcf5",
   "metadata": {},
   "outputs": [
    {
     "name": "stdout",
     "output_type": "stream",
     "text": [
      "WARNING:tensorflow:From C:\\Users\\gouth\\AppData\\Roaming\\Python\\Python311\\site-packages\\keras\\src\\backend.py:1398: The name tf.executing_eagerly_outside_functions is deprecated. Please use tf.compat.v1.executing_eagerly_outside_functions instead.\n",
      "\n",
      "WARNING:tensorflow:From C:\\Users\\gouth\\AppData\\Roaming\\Python\\Python311\\site-packages\\keras\\src\\layers\\pooling\\max_pooling2d.py:161: The name tf.nn.max_pool is deprecated. Please use tf.nn.max_pool2d instead.\n",
      "\n"
     ]
    }
   ],
   "source": [
    "from tensorflow.keras.models import load_model\n",
    "\n",
    "try:\n",
    "    model = load_model(\"cnn_model2.h5\")\n",
    "except Exception as e:\n",
    "    print(f\"Error loading the model: {str(e)}\")\n",
    "\n",
    "class_labels = ['10', '100', '20', '200', '2000', '50', '500']\n"
   ]
  },
  {
   "cell_type": "code",
   "execution_count": 7,
   "id": "07f2647e-e4f5-4b7e-b096-39675d921674",
   "metadata": {
    "tags": []
   },
   "outputs": [],
   "source": [
    "import cv2\n",
    "import numpy as np\n",
    "from PIL import Image\n",
    "\n",
    "def predict_currency(image):\n",
    "    pil_image = Image.fromarray(cv2.cvtColor(image, cv2.COLOR_BGR2RGB))\n",
    "    resized_image = pil_image.resize((150, 150))\n",
    "    resized_image_array = np.array(resized_image)\n",
    "    input_image = np.expand_dims(resized_image_array, axis=0)\n",
    "\n",
    "    predictions = model.predict(input_image)\n",
    "    predicted_class_index = np.argmax(predictions)\n",
    "\n",
    "    predicted_class = class_labels[predicted_class_index]\n",
    "    probability = predictions[0][predicted_class_index]\n",
    "\n",
    "    return predicted_class, probability"
   ]
  },
  {
   "cell_type": "code",
   "execution_count": 8,
   "id": "806abe0a-54b2-4b9e-bf30-bafa94f8082a",
   "metadata": {
    "tags": []
   },
   "outputs": [],
   "source": [
    "def display_with_filled_background(image, denomination):\n",
    "    text = f'Denomination: {denomination} Rs'\n",
    "    font = cv2.FONT_HERSHEY_SIMPLEX\n",
    "    font_scale = 0.5\n",
    "    font_thickness = 1\n",
    "    text_size = cv2.getTextSize(text, font, font_scale, font_thickness)[0]\n",
    "\n",
    "    background_coordinates = ((10, 30), (10 + text_size[0] + 2, 30 - text_size[1] - 5))\n",
    "\n",
    "    cv2.rectangle(image, background_coordinates[0], background_coordinates[1], (255, 0, 0), -1)\n",
    "    cv2.putText(image, text, (10, 30 - 5), font, font_scale, (255, 255, 255), font_thickness, cv2.LINE_AA)\n",
    "    cv2.imshow('Currency Prediction', image)"
   ]
  },
  {
   "cell_type": "code",
   "execution_count": null,
   "id": "85672a83-dca6-4daf-9b1f-3e1ff8dd3326",
   "metadata": {
    "tags": []
   },
   "outputs": [
    {
     "name": "stdout",
     "output_type": "stream",
     "text": [
      "1/1 [==============================] - 0s 49ms/step\n",
      "1/1 [==============================] - 0s 38ms/step\n",
      "1/1 [==============================] - 0s 36ms/step\n",
      "1/1 [==============================] - 0s 39ms/step\n",
      "1/1 [==============================] - 0s 37ms/step\n",
      "1/1 [==============================] - 0s 37ms/step\n",
      "1/1 [==============================] - 0s 31ms/step\n",
      "1/1 [==============================] - 0s 35ms/step\n",
      "1/1 [==============================] - 0s 36ms/step\n",
      "1/1 [==============================] - 0s 36ms/step\n",
      "1/1 [==============================] - 0s 34ms/step\n",
      "1/1 [==============================] - 0s 31ms/step\n",
      "1/1 [==============================] - 0s 33ms/step\n",
      "1/1 [==============================] - 0s 47ms/step\n",
      "1/1 [==============================] - 0s 43ms/step\n",
      "1/1 [==============================] - 0s 31ms/step\n",
      "1/1 [==============================] - 0s 23ms/step\n",
      "1/1 [==============================] - 0s 31ms/step\n",
      "1/1 [==============================] - 0s 31ms/step\n",
      "1/1 [==============================] - 0s 25ms/step\n",
      "1/1 [==============================] - 0s 31ms/step\n",
      "1/1 [==============================] - 0s 31ms/step\n",
      "1/1 [==============================] - 0s 31ms/step\n",
      "1/1 [==============================] - 0s 32ms/step\n",
      "1/1 [==============================] - 0s 31ms/step\n",
      "1/1 [==============================] - 0s 32ms/step\n",
      "1/1 [==============================] - 0s 31ms/step\n",
      "1/1 [==============================] - 0s 31ms/step\n",
      "1/1 [==============================] - 0s 35ms/step\n",
      "1/1 [==============================] - 0s 31ms/step\n",
      "1/1 [==============================] - 0s 31ms/step\n",
      "1/1 [==============================] - 0s 19ms/step\n",
      "1/1 [==============================] - 0s 31ms/step\n",
      "1/1 [==============================] - 0s 56ms/step\n",
      "1/1 [==============================] - 0s 39ms/step\n"
     ]
    },
    {
     "name": "stderr",
     "output_type": "stream",
     "text": [
      "Exception ignored in: <function BSTR.__del__ at 0x000001EE605C14E0>\n",
      "Traceback (most recent call last):\n",
      "  File \"C:\\Users\\gouth\\AppData\\Roaming\\Python\\Python311\\site-packages\\comtypes\\__init__.py\", line 699, in __del__\n",
      "    def __del__(self, _free=windll.oleaut32.SysFreeString):\n",
      "\n",
      "KeyboardInterrupt: \n"
     ]
    },
    {
     "name": "stdout",
     "output_type": "stream",
     "text": [
      "1/1 [==============================] - 0s 31ms/step\n",
      "1/1 [==============================] - 0s 50ms/step\n"
     ]
    },
    {
     "name": "stderr",
     "output_type": "stream",
     "text": [
      "Exception ignored in: <function BSTR.__del__ at 0x000001EE605C14E0>\n",
      "Traceback (most recent call last):\n",
      "  File \"C:\\Users\\gouth\\AppData\\Roaming\\Python\\Python311\\site-packages\\comtypes\\__init__.py\", line 699, in __del__\n",
      "    def __del__(self, _free=windll.oleaut32.SysFreeString):\n",
      "\n",
      "KeyboardInterrupt: \n"
     ]
    },
    {
     "name": "stdout",
     "output_type": "stream",
     "text": [
      "1/1 [==============================] - 0s 47ms/step\n",
      "1/1 [==============================] - 0s 35ms/step\n",
      "1/1 [==============================] - 0s 31ms/step\n",
      "1/1 [==============================] - 0s 31ms/step\n",
      "1/1 [==============================] - 0s 19ms/step\n"
     ]
    }
   ],
   "source": [
    "import pyttsx3\n",
    "\n",
    "cap = cv2.VideoCapture(0)\n",
    "\n",
    "# Initialize text-to-speech engine\n",
    "engine = pyttsx3.init()\n",
    "\n",
    "while True:\n",
    "    ret, frame = cap.read()\n",
    "\n",
    "    # Perform prediction on the captured frame\n",
    "    predicted_class, probability = predict_currency(frame)\n",
    "\n",
    "    confidence_threshold = 0.5\n",
    "\n",
    "    if probability >= confidence_threshold:\n",
    "        # Display denomination with blue filled background on the camera frame\n",
    "        display_with_filled_background(frame, predicted_class)\n",
    "\n",
    "        # Speak the detected currency\n",
    "        engine.say(f\"{predicted_class} Rupees\")\n",
    "        engine.runAndWait()\n",
    "    else:\n",
    "        cv2.putText(frame, 'Low confidence. Please try again.', (10, 30), cv2.FONT_HERSHEY_SIMPLEX, 1, (0, 0, 255), 2, cv2.LINE_AA)\n",
    "        cv2.imshow('Currency Prediction', frame)\n",
    "\n",
    "    # Display the frame and check for the 'q' key to quit\n",
    "    cv2.imshow('Currency Prediction', frame)\n",
    "    if cv2.waitKey(1) & 0xFF == ord('q'):\n",
    "        break\n",
    "\n",
    "# Release the camera and close OpenCV windows\n",
    "cap.release()\n",
    "cv2.destroyAllWindows()"
   ]
  },
  {
   "cell_type": "code",
   "execution_count": 11,
   "id": "5d460c6e-82a4-40e6-9cf2-64c3f311c55d",
   "metadata": {
    "tags": []
   },
   "outputs": [
    {
     "name": "stdout",
     "output_type": "stream",
     "text": [
      "Defaulting to user installation because normal site-packages is not writeable\n",
      "Collecting pyttsx3\n",
      "  Using cached pyttsx3-2.90-py3-none-any.whl (39 kB)\n",
      "Collecting comtypes (from pyttsx3)\n",
      "  Obtaining dependency information for comtypes from https://files.pythonhosted.org/packages/c2/a7/fe4bd49b5c4afa7a7ed3852abda6909e48c00715e6a134e47055381113aa/comtypes-1.2.0-py2.py3-none-any.whl.metadata\n",
      "  Downloading comtypes-1.2.0-py2.py3-none-any.whl.metadata (3.7 kB)\n",
      "Collecting pypiwin32 (from pyttsx3)\n",
      "  Using cached pypiwin32-223-py3-none-any.whl (1.7 kB)\n",
      "Requirement already satisfied: pywin32 in c:\\users\\gouth\\appdata\\roaming\\python\\python311\\site-packages (from pyttsx3) (306)\n",
      "Using cached comtypes-1.2.0-py2.py3-none-any.whl (184 kB)\n",
      "Installing collected packages: comtypes, pypiwin32, pyttsx3\n",
      "Successfully installed comtypes-1.2.0 pypiwin32-223 pyttsx3-2.90\n"
     ]
    }
   ],
   "source": []
  },
  {
   "cell_type": "code",
   "execution_count": null,
   "id": "206950cd-59cb-432a-bb30-3d7db0f5d43b",
   "metadata": {},
   "outputs": [],
   "source": []
  }
 ],
 "metadata": {
  "kernelspec": {
   "display_name": "Python 3 (ipykernel)",
   "language": "python",
   "name": "python3"
  },
  "language_info": {
   "codemirror_mode": {
    "name": "ipython",
    "version": 3
   },
   "file_extension": ".py",
   "mimetype": "text/x-python",
   "name": "python",
   "nbconvert_exporter": "python",
   "pygments_lexer": "ipython3",
   "version": "3.11.5"
  }
 },
 "nbformat": 4,
 "nbformat_minor": 5
}
