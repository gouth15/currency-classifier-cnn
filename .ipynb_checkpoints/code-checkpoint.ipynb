{
 "cells": [
  {
   "cell_type": "code",
   "execution_count": 1,
   "id": "bad12017-b260-41cb-943e-41b2f816a59a",
   "metadata": {
    "tags": []
   },
   "outputs": [],
   "source": [
    "import os\n",
    "from warnings import filterwarnings\n",
    "filterwarnings('ignore')\n",
    "\n",
    "from sklearn.utils import shuffle\n",
    "from sklearn.model_selection import train_test_split\n",
    "from sklearn.metrics import confusion_matrix, accuracy_score, classification_report"
   ]
  },
  {
   "cell_type": "code",
   "execution_count": 3,
   "id": "8193a416-34d2-412a-a889-29aa292dee49",
   "metadata": {
    "tags": []
   },
   "outputs": [],
   "source": [
    "import tensorflow as tf\n",
    "import keras\n",
    "\n",
    "from tensorflow.keras.models import Sequential\n",
    "from tensorflow.keras.layers import Dense, Activation, Dropout, MaxPool2D, Conv2D, MaxPooling2D, Flatten\n",
    "from tensorflow.keras.optimizers import Adam\n",
    "from tensorflow.keras.preprocessing.image import ImageDataGenerator\n",
    "\n",
    "import cv2\n",
    "import numpy as np\n",
    "import matplotlib.pyplot as plt"
   ]
  },
  {
   "cell_type": "code",
   "execution_count": 3,
   "id": "99e1a700-27ba-4f2e-9e0d-b712dbb10ffa",
   "metadata": {
    "tags": []
   },
   "outputs": [],
   "source": [
    "img_width, img_height = 150, 150\n",
    "batch_size = 32\n",
    "epochs = 10"
   ]
  },
  {
   "cell_type": "code",
   "execution_count": 4,
   "id": "f7250a1a-a346-44f6-a4ec-b4ab8db8f3cb",
   "metadata": {
    "tags": []
   },
   "outputs": [],
   "source": [
    "path = \"D://Project//model_6\"\n",
    "train_data = \"data//train\"\n",
    "test_data = \"data//test\""
   ]
  },
  {
   "cell_type": "code",
   "execution_count": 5,
   "id": "80ca2a26-b641-4eb4-a940-ca90e59aa019",
   "metadata": {
    "tags": []
   },
   "outputs": [],
   "source": [
    "from glob import glob"
   ]
  },
  {
   "cell_type": "code",
   "execution_count": 6,
   "id": "638554b5-8c35-464b-83de-63892978b9d0",
   "metadata": {
    "tags": []
   },
   "outputs": [
    {
     "data": {
      "text/plain": [
       "['data//train\\\\10\\\\',\n",
       " 'data//train\\\\100\\\\',\n",
       " 'data//train\\\\20\\\\',\n",
       " 'data//train\\\\200\\\\',\n",
       " 'data//train\\\\2000\\\\',\n",
       " 'data//train\\\\50\\\\',\n",
       " 'data//train\\\\500\\\\']"
      ]
     },
     "execution_count": 6,
     "metadata": {},
     "output_type": "execute_result"
    }
   ],
   "source": [
    "glob(\"data//train//*//\")"
   ]
  },
  {
   "cell_type": "code",
   "execution_count": 7,
   "id": "d92f1ee5-57f3-4eba-b638-7f60ae7cf1ca",
   "metadata": {
    "tags": []
   },
   "outputs": [],
   "source": [
    "labels = [\"10\", \"100\", \"20\", \"200\", \"2000\", \"50\", \"500\"]"
   ]
  },
  {
   "cell_type": "code",
   "execution_count": 8,
   "id": "c022899f-5a6b-438c-b1b9-62d147ebb9ed",
   "metadata": {
    "tags": []
   },
   "outputs": [],
   "source": [
    "trainGen = ImageDataGenerator(rescale = 1./255, shear_range = 0.2, horizontal_flip = True, zoom_range = 0.2)\n",
    "testGen = ImageDataGenerator(rescale = 1./ 255)"
   ]
  },
  {
   "cell_type": "code",
   "execution_count": 9,
   "id": "c1159f53-8526-4bd7-9cd6-27841e48968c",
   "metadata": {
    "tags": []
   },
   "outputs": [
    {
     "name": "stdout",
     "output_type": "stream",
     "text": [
      "Found 875 images belonging to 7 classes.\n",
      "Found 175 images belonging to 7 classes.\n"
     ]
    }
   ],
   "source": [
    "train = trainGen.flow_from_directory(train_data, target_size = (img_height, img_width), classes = labels, class_mode = \"categorical\", batch_size = batch_size, shuffle = True)\n",
    "test = testGen.flow_from_directory(test_data, target_size = (img_height, img_width), classes = labels, class_mode = \"categorical\", batch_size = batch_size, shuffle = True)"
   ]
  },
  {
   "cell_type": "code",
   "execution_count": 4,
   "id": "da6f465c-f0ca-428e-a229-1e49892efc6d",
   "metadata": {
    "tags": []
   },
   "outputs": [
    {
     "ename": "NameError",
     "evalue": "name 'img_height' is not defined",
     "output_type": "error",
     "traceback": [
      "\u001b[1;31m---------------------------------------------------------------------------\u001b[0m",
      "\u001b[1;31mNameError\u001b[0m                                 Traceback (most recent call last)",
      "Cell \u001b[1;32mIn[4], line 3\u001b[0m\n\u001b[0;32m      1\u001b[0m model \u001b[38;5;241m=\u001b[39m Sequential()\n\u001b[1;32m----> 3\u001b[0m model\u001b[38;5;241m.\u001b[39madd(Conv2D(\u001b[38;5;241m128\u001b[39m, (\u001b[38;5;241m3\u001b[39m, \u001b[38;5;241m3\u001b[39m), input_shape \u001b[38;5;241m=\u001b[39m (\u001b[43mimg_height\u001b[49m, img_width, \u001b[38;5;241m3\u001b[39m), padding \u001b[38;5;241m=\u001b[39m \u001b[38;5;124m\"\u001b[39m\u001b[38;5;124msame\u001b[39m\u001b[38;5;124m\"\u001b[39m, activation \u001b[38;5;241m=\u001b[39m \u001b[38;5;124m\"\u001b[39m\u001b[38;5;124mrelu\u001b[39m\u001b[38;5;124m\"\u001b[39m))\n\u001b[0;32m      4\u001b[0m model\u001b[38;5;241m.\u001b[39madd(MaxPool2D(pool_size \u001b[38;5;241m=\u001b[39m (\u001b[38;5;241m2\u001b[39m, \u001b[38;5;241m2\u001b[39m)))\n\u001b[0;32m      6\u001b[0m model\u001b[38;5;241m.\u001b[39madd(Conv2D(\u001b[38;5;241m64\u001b[39m, \u001b[38;5;241m3\u001b[39m, \u001b[38;5;241m3\u001b[39m, padding \u001b[38;5;241m=\u001b[39m \u001b[38;5;124m\"\u001b[39m\u001b[38;5;124msame\u001b[39m\u001b[38;5;124m\"\u001b[39m, activation \u001b[38;5;241m=\u001b[39m \u001b[38;5;124m\"\u001b[39m\u001b[38;5;124mrelu\u001b[39m\u001b[38;5;124m\"\u001b[39m))\n",
      "\u001b[1;31mNameError\u001b[0m: name 'img_height' is not defined"
     ]
    }
   ],
   "source": [
    "model = Sequential()\n",
    "\n",
    "model.add(Conv2D(128, (3, 3), input_shape = (img_height, img_width, 3), padding = \"same\", activation = \"relu\"))\n",
    "model.add(MaxPool2D(pool_size = (2, 2)))\n",
    "\n",
    "model.add(Conv2D(64, 3, 3, padding = \"same\", activation = \"relu\"))\n",
    "model.add(MaxPool2D(pool_size = (2, 2)))\n",
    "model.add(Dropout(0.2))\n",
    "\n",
    "model.add(Conv2D(32, 3, 3, padding = \"same\", activation = \"relu\"))\n",
    "model.add(MaxPool2D(pool_size = (2, 2)))\n",
    "model.add(Dropout(0.2))\n",
    "\n",
    "model.add(Dense(32, activation = \"relu\"))\n",
    "\n",
    "model.add(Flatten())\n",
    "\n",
    "model.add(Dense(32, activation = \"relu\"))\n",
    "model.add(Dense(7, activation = \"softmax\"))"
   ]
  },
  {
   "cell_type": "code",
   "execution_count": 11,
   "id": "84603f6e-3652-4b77-b9bc-a900a356aac8",
   "metadata": {
    "tags": []
   },
   "outputs": [
    {
     "name": "stdout",
     "output_type": "stream",
     "text": [
      "Model: \"sequential\"\n",
      "_________________________________________________________________\n",
      " Layer (type)                Output Shape              Param #   \n",
      "=================================================================\n",
      " conv2d (Conv2D)             (None, 150, 150, 128)     3584      \n",
      "                                                                 \n",
      " max_pooling2d (MaxPooling2  (None, 75, 75, 128)       0         \n",
      " D)                                                              \n",
      "                                                                 \n",
      " conv2d_1 (Conv2D)           (None, 25, 25, 64)        73792     \n",
      "                                                                 \n",
      " max_pooling2d_1 (MaxPoolin  (None, 12, 12, 64)        0         \n",
      " g2D)                                                            \n",
      "                                                                 \n",
      " dropout (Dropout)           (None, 12, 12, 64)        0         \n",
      "                                                                 \n",
      " conv2d_2 (Conv2D)           (None, 4, 4, 32)          18464     \n",
      "                                                                 \n",
      " max_pooling2d_2 (MaxPoolin  (None, 2, 2, 32)          0         \n",
      " g2D)                                                            \n",
      "                                                                 \n",
      " dropout_1 (Dropout)         (None, 2, 2, 32)          0         \n",
      "                                                                 \n",
      " dense (Dense)               (None, 2, 2, 32)          1056      \n",
      "                                                                 \n",
      " flatten (Flatten)           (None, 128)               0         \n",
      "                                                                 \n",
      " dense_1 (Dense)             (None, 32)                4128      \n",
      "                                                                 \n",
      " dense_2 (Dense)             (None, 7)                 231       \n",
      "                                                                 \n",
      "=================================================================\n",
      "Total params: 101255 (395.53 KB)\n",
      "Trainable params: 101255 (395.53 KB)\n",
      "Non-trainable params: 0 (0.00 Byte)\n",
      "_________________________________________________________________\n"
     ]
    }
   ],
   "source": [
    "model.summary()"
   ]
  },
  {
   "cell_type": "code",
   "execution_count": 12,
   "id": "bacdf9ef-9fb0-4dcf-91ae-aa61649ad21f",
   "metadata": {
    "tags": []
   },
   "outputs": [],
   "source": [
    "model.compile(optimizer = \"adam\", loss = \"categorical_crossentropy\", metrics = [\"accuracy\"])"
   ]
  },
  {
   "cell_type": "code",
   "execution_count": 13,
   "id": "f1ed9364-5f84-40c4-88a3-38c626ad7fbe",
   "metadata": {
    "tags": []
   },
   "outputs": [],
   "source": [
    "epochs = 20"
   ]
  },
  {
   "cell_type": "code",
   "execution_count": 14,
   "id": "8faa3ff1-f97e-455c-a296-8dafdc9132ae",
   "metadata": {
    "tags": []
   },
   "outputs": [],
   "source": [
    "checkpoint_path = \"chkpt//cp.ckpt\"\n",
    "checkpoint_dir = \"chkpt\""
   ]
  },
  {
   "cell_type": "code",
   "execution_count": 16,
   "id": "3c5074bc-f639-4c9e-9623-5d4a2ce2eb12",
   "metadata": {
    "tags": []
   },
   "outputs": [],
   "source": [
    "cp_callback = tf.keras.callbacks.ModelCheckpoint(checkpoint_path, save_weights_only = True, verbose = 1)"
   ]
  },
  {
   "cell_type": "code",
   "execution_count": 17,
   "id": "c9838d50-3942-4387-b6c9-7669eb744f0a",
   "metadata": {
    "tags": []
   },
   "outputs": [],
   "source": [
    "early_stopping = tf.keras.callbacks.EarlyStopping(monitor = 'loss', patience = 10,  restore_best_weights = True)"
   ]
  },
  {
   "cell_type": "code",
   "execution_count": 18,
   "id": "aa5c68f8-02b2-4fd9-9d9b-a678899fdfad",
   "metadata": {
    "tags": []
   },
   "outputs": [
    {
     "name": "stdout",
     "output_type": "stream",
     "text": [
      "Epoch 1/20\n",
      "28/28 [==============================] - ETA: 0s - loss: 1.9391 - accuracy: 0.1691\n",
      "Epoch 1: saving model to chkpt\\cp.ckpt\n",
      "28/28 [==============================] - 45s 1s/step - loss: 1.9391 - accuracy: 0.1691 - val_loss: 1.8913 - val_accuracy: 0.1829\n",
      "Epoch 2/20\n",
      "28/28 [==============================] - ETA: 0s - loss: 1.7720 - accuracy: 0.2651\n",
      "Epoch 2: saving model to chkpt\\cp.ckpt\n",
      "28/28 [==============================] - 37s 1s/step - loss: 1.7720 - accuracy: 0.2651 - val_loss: 1.5477 - val_accuracy: 0.3714\n",
      "Epoch 3/20\n",
      "28/28 [==============================] - ETA: 0s - loss: 1.4299 - accuracy: 0.3989\n",
      "Epoch 3: saving model to chkpt\\cp.ckpt\n",
      "28/28 [==============================] - 38s 1s/step - loss: 1.4299 - accuracy: 0.3989 - val_loss: 1.1901 - val_accuracy: 0.5829\n",
      "Epoch 4/20\n",
      "28/28 [==============================] - ETA: 0s - loss: 1.0845 - accuracy: 0.5737\n",
      "Epoch 4: saving model to chkpt\\cp.ckpt\n",
      "28/28 [==============================] - 38s 1s/step - loss: 1.0845 - accuracy: 0.5737 - val_loss: 1.0311 - val_accuracy: 0.6057\n",
      "Epoch 5/20\n",
      "28/28 [==============================] - ETA: 0s - loss: 0.8674 - accuracy: 0.6549\n",
      "Epoch 5: saving model to chkpt\\cp.ckpt\n",
      "28/28 [==============================] - 37s 1s/step - loss: 0.8674 - accuracy: 0.6549 - val_loss: 0.7989 - val_accuracy: 0.7029\n",
      "Epoch 6/20\n",
      "28/28 [==============================] - ETA: 0s - loss: 0.7542 - accuracy: 0.7120\n",
      "Epoch 6: saving model to chkpt\\cp.ckpt\n",
      "28/28 [==============================] - 39s 1s/step - loss: 0.7542 - accuracy: 0.7120 - val_loss: 0.7931 - val_accuracy: 0.6857\n",
      "Epoch 7/20\n",
      "28/28 [==============================] - ETA: 0s - loss: 0.5670 - accuracy: 0.7920\n",
      "Epoch 7: saving model to chkpt\\cp.ckpt\n",
      "28/28 [==============================] - 39s 1s/step - loss: 0.5670 - accuracy: 0.7920 - val_loss: 0.4456 - val_accuracy: 0.8800\n",
      "Epoch 8/20\n",
      "28/28 [==============================] - ETA: 0s - loss: 0.5597 - accuracy: 0.7931\n",
      "Epoch 8: saving model to chkpt\\cp.ckpt\n",
      "28/28 [==============================] - 38s 1s/step - loss: 0.5597 - accuracy: 0.7931 - val_loss: 0.4898 - val_accuracy: 0.8457\n",
      "Epoch 9/20\n",
      "28/28 [==============================] - ETA: 0s - loss: 0.4763 - accuracy: 0.8297\n",
      "Epoch 9: saving model to chkpt\\cp.ckpt\n",
      "28/28 [==============================] - 41s 1s/step - loss: 0.4763 - accuracy: 0.8297 - val_loss: 0.4011 - val_accuracy: 0.8914\n",
      "Epoch 10/20\n",
      "28/28 [==============================] - ETA: 0s - loss: 0.4442 - accuracy: 0.8331\n",
      "Epoch 10: saving model to chkpt\\cp.ckpt\n",
      "28/28 [==============================] - 39s 1s/step - loss: 0.4442 - accuracy: 0.8331 - val_loss: 0.4778 - val_accuracy: 0.8057\n",
      "Epoch 11/20\n",
      "28/28 [==============================] - ETA: 0s - loss: 0.4622 - accuracy: 0.8377\n",
      "Epoch 11: saving model to chkpt\\cp.ckpt\n",
      "28/28 [==============================] - 39s 1s/step - loss: 0.4622 - accuracy: 0.8377 - val_loss: 0.3656 - val_accuracy: 0.8457\n",
      "Epoch 12/20\n",
      "28/28 [==============================] - ETA: 0s - loss: 0.3972 - accuracy: 0.8469\n",
      "Epoch 12: saving model to chkpt\\cp.ckpt\n",
      "28/28 [==============================] - 38s 1s/step - loss: 0.3972 - accuracy: 0.8469 - val_loss: 0.2472 - val_accuracy: 0.9200\n",
      "Epoch 13/20\n",
      "28/28 [==============================] - ETA: 0s - loss: 0.3545 - accuracy: 0.8731\n",
      "Epoch 13: saving model to chkpt\\cp.ckpt\n",
      "28/28 [==============================] - 38s 1s/step - loss: 0.3545 - accuracy: 0.8731 - val_loss: 0.2382 - val_accuracy: 0.9257\n",
      "Epoch 14/20\n",
      "28/28 [==============================] - ETA: 0s - loss: 0.3543 - accuracy: 0.8663\n",
      "Epoch 14: saving model to chkpt\\cp.ckpt\n",
      "28/28 [==============================] - 39s 1s/step - loss: 0.3543 - accuracy: 0.8663 - val_loss: 0.2663 - val_accuracy: 0.9371\n",
      "Epoch 15/20\n",
      "28/28 [==============================] - ETA: 0s - loss: 0.4050 - accuracy: 0.8423\n",
      "Epoch 15: saving model to chkpt\\cp.ckpt\n",
      "28/28 [==============================] - 37s 1s/step - loss: 0.4050 - accuracy: 0.8423 - val_loss: 0.2783 - val_accuracy: 0.9086\n",
      "Epoch 16/20\n",
      "28/28 [==============================] - ETA: 0s - loss: 0.4280 - accuracy: 0.8491\n",
      "Epoch 16: saving model to chkpt\\cp.ckpt\n",
      "28/28 [==============================] - 36s 1s/step - loss: 0.4280 - accuracy: 0.8491 - val_loss: 0.3472 - val_accuracy: 0.8743\n",
      "Epoch 17/20\n",
      "28/28 [==============================] - ETA: 0s - loss: 0.3806 - accuracy: 0.8629\n",
      "Epoch 17: saving model to chkpt\\cp.ckpt\n",
      "28/28 [==============================] - 40s 1s/step - loss: 0.3806 - accuracy: 0.8629 - val_loss: 0.1710 - val_accuracy: 0.9657\n",
      "Epoch 18/20\n",
      "28/28 [==============================] - ETA: 0s - loss: 0.3009 - accuracy: 0.8846\n",
      "Epoch 18: saving model to chkpt\\cp.ckpt\n",
      "28/28 [==============================] - 38s 1s/step - loss: 0.3009 - accuracy: 0.8846 - val_loss: 0.3539 - val_accuracy: 0.8971\n",
      "Epoch 19/20\n",
      "28/28 [==============================] - ETA: 0s - loss: 0.3309 - accuracy: 0.8766\n",
      "Epoch 19: saving model to chkpt\\cp.ckpt\n",
      "28/28 [==============================] - 38s 1s/step - loss: 0.3309 - accuracy: 0.8766 - val_loss: 0.3907 - val_accuracy: 0.8629\n",
      "Epoch 20/20\n",
      "28/28 [==============================] - ETA: 0s - loss: 0.2892 - accuracy: 0.8914\n",
      "Epoch 20: saving model to chkpt\\cp.ckpt\n",
      "28/28 [==============================] - 38s 1s/step - loss: 0.2892 - accuracy: 0.8914 - val_loss: 0.1710 - val_accuracy: 0.9543\n"
     ]
    },
    {
     "data": {
      "text/plain": [
       "<keras.src.callbacks.History at 0x1d494877f90>"
      ]
     },
     "execution_count": 18,
     "metadata": {},
     "output_type": "execute_result"
    }
   ],
   "source": [
    "model.fit(train, epochs = epochs, validation_data = test, callbacks = [early_stopping, cp_callback])"
   ]
  },
  {
   "cell_type": "code",
   "execution_count": 21,
   "id": "c971bd86-a7db-449a-9dfa-1859e42d7383",
   "metadata": {
    "tags": []
   },
   "outputs": [
    {
     "data": {
      "text/plain": [
       "['checkpoint', 'cp.ckpt.data-00000-of-00001', 'cp.ckpt.index']"
      ]
     },
     "execution_count": 21,
     "metadata": {},
     "output_type": "execute_result"
    }
   ],
   "source": [
    "import os\n",
    "os.listdir(checkpoint_dir)"
   ]
  },
  {
   "cell_type": "code",
   "execution_count": 22,
   "id": "e733cd56-20dd-43f9-aeb7-c9ab55841489",
   "metadata": {
    "tags": []
   },
   "outputs": [
    {
     "data": {
      "text/plain": [
       "[1.9391359090805054,\n",
       " 1.7719687223434448,\n",
       " 1.4299448728561401,\n",
       " 1.0845245122909546,\n",
       " 0.8674213290214539,\n",
       " 0.7541506290435791,\n",
       " 0.5670175552368164,\n",
       " 0.559674859046936,\n",
       " 0.47631287574768066,\n",
       " 0.44422611594200134,\n",
       " 0.4622472822666168,\n",
       " 0.3972008526325226,\n",
       " 0.3545023798942566,\n",
       " 0.35429272055625916,\n",
       " 0.4049794673919678,\n",
       " 0.42801332473754883,\n",
       " 0.38062965869903564,\n",
       " 0.3009369969367981,\n",
       " 0.3309236466884613,\n",
       " 0.2891555428504944]"
      ]
     },
     "execution_count": 22,
     "metadata": {},
     "output_type": "execute_result"
    }
   ],
   "source": [
    "train_loss = model.history.history[\"loss\"]\n",
    "train_loss"
   ]
  },
  {
   "cell_type": "code",
   "execution_count": 23,
   "id": "0c530bb8-7822-4a62-8431-83873e2a0093",
   "metadata": {
    "tags": []
   },
   "outputs": [
    {
     "data": {
      "text/plain": [
       "[1.891300082206726,\n",
       " 1.5476644039154053,\n",
       " 1.1901246309280396,\n",
       " 1.0310561656951904,\n",
       " 0.7988553047180176,\n",
       " 0.7930821180343628,\n",
       " 0.4455820620059967,\n",
       " 0.4897718131542206,\n",
       " 0.40109705924987793,\n",
       " 0.47784096002578735,\n",
       " 0.3655773401260376,\n",
       " 0.2472376972436905,\n",
       " 0.2381637841463089,\n",
       " 0.2663228213787079,\n",
       " 0.278324156999588,\n",
       " 0.3471921980381012,\n",
       " 0.17097905278205872,\n",
       " 0.3539471924304962,\n",
       " 0.390717476606369,\n",
       " 0.17099426686763763]"
      ]
     },
     "execution_count": 23,
     "metadata": {},
     "output_type": "execute_result"
    }
   ],
   "source": [
    "test_loss = model.history.history[\"val_loss\"]\n",
    "test_loss"
   ]
  },
  {
   "cell_type": "code",
   "execution_count": 24,
   "id": "ce05af5e-f2ad-4164-ad06-81923f5321b6",
   "metadata": {
    "tags": []
   },
   "outputs": [
    {
     "data": {
      "image/png": "[encoded data removed]",
      "text/plain": [
       "<Figure size 1600x800 with 1 Axes>"
      ]
     },
     "metadata": {},
     "output_type": "display_data"
    }
   ],
   "source": [
    "plt.figure(figsize = (16, 8))\n",
    "plt.plot(np.arange(epochs), train_loss, color = 'red', label = \"train_loss\")\n",
    "plt.plot(np.arange(epochs), test_loss, color = 'blue', label = \"test_loss\")\n",
    "plt.legend()\n",
    "plt.xlabel('Epcohs')\n",
    "plt.show()"
   ]
  },
  {
   "cell_type": "code",
   "execution_count": 25,
   "id": "5c7ce235-98b6-44ed-95bc-555dee762533",
   "metadata": {
    "tags": []
   },
   "outputs": [],
   "source": [
    "from keras.preprocessing import image"
   ]
  },
  {
   "cell_type": "code",
   "execution_count": 26,
   "id": "7d55c4d9-6e25-430f-8df0-21f3f9862cd2",
   "metadata": {
    "tags": []
   },
   "outputs": [
    {
     "data": {
      "text/plain": [
       "['10', '100', '20', '200', '2000', '50', '500']"
      ]
     },
     "execution_count": 26,
     "metadata": {},
     "output_type": "execute_result"
    }
   ],
   "source": [
    "labels"
   ]
  },
  {
   "cell_type": "code",
   "execution_count": 27,
   "id": "ea8dfd1a-3a78-497e-9b33-ed9e055258a1",
   "metadata": {
    "tags": []
   },
   "outputs": [],
   "source": [
    "def predict_note(path):\n",
    "\n",
    "    img_pred = image.load_img(path, target_size=(img_height, img_width))\n",
    "    img_pred = image.img_to_array(img_pred)\n",
    "    img = np.expand_dims(img_pred, axis=0)\n",
    "\n",
    "    predictions = model.predict(img)\n",
    "    predicted_class_index = np.argmax(predictions)\n",
    "    \n",
    "    class_labels = [\"10\", \"100\", \"20\", \"200\", \"2000\", \"50\", \"500\"]\n",
    "    \n",
    "    prediction = class_labels[predicted_class_index]\n",
    "\n",
    "    probability = predictions[0][predicted_class_index]\n",
    "\n",
    "    print(\"Predicted Class:\", prediction)\n",
    "    print(\"Probability:\", probability)\n"
   ]
  },
  {
   "cell_type": "code",
   "execution_count": 28,
   "id": "002e44b3-e7e5-4ec4-89da-915b47d0075f",
   "metadata": {
    "tags": []
   },
   "outputs": [
    {
     "name": "stdout",
     "output_type": "stream",
     "text": [
      "1/1 [==============================] - 1s 737ms/step\n",
      "Predicted Class: 10\n",
      "Probability: 1.0\n"
     ]
    }
   ],
   "source": [
    "predict_note(\"data/test/10/343_sharp.png\")"
   ]
  },
  {
   "cell_type": "code",
   "execution_count": 29,
   "id": "421e4919-6ef7-4736-9b06-1bffdbf04f1c",
   "metadata": {
    "tags": []
   },
   "outputs": [
    {
     "name": "stdout",
     "output_type": "stream",
     "text": [
      "1/1 [==============================] - 0s 76ms/step\n",
      "Predicted Class: 10\n",
      "Probability: 1.0\n"
     ]
    }
   ],
   "source": [
    "predict_note(\"data/test/10/345.png\")"
   ]
  },
  {
   "cell_type": "code",
   "execution_count": 30,
   "id": "009faf0f-1414-4158-9fd8-3b47b4ab6cc4",
   "metadata": {
    "tags": []
   },
   "outputs": [
    {
     "name": "stdout",
     "output_type": "stream",
     "text": [
      "1/1 [==============================] - 0s 73ms/step\n",
      "Predicted Class: 20\n",
      "Probability: 1.0\n"
     ]
    }
   ],
   "source": [
    "predict_note(\"data/test/20/252_sharp.png\")"
   ]
  },
  {
   "cell_type": "code",
   "execution_count": 31,
   "id": "7c6fc1fa-a007-4ebd-8a71-96a6284808b5",
   "metadata": {
    "tags": []
   },
   "outputs": [
    {
     "name": "stdout",
     "output_type": "stream",
     "text": [
      "1/1 [==============================] - 0s 89ms/step\n",
      "Predicted Class: 20\n",
      "Probability: 1.0\n"
     ]
    }
   ],
   "source": [
    "predict_note(\"data/test/20/255.png\")"
   ]
  },
  {
   "cell_type": "code",
   "execution_count": 32,
   "id": "b9d2ab51-ca1c-4960-9d38-72484dc879a0",
   "metadata": {
    "tags": []
   },
   "outputs": [
    {
     "name": "stdout",
     "output_type": "stream",
     "text": [
      "1/1 [==============================] - 0s 81ms/step\n",
      "Predicted Class: 50\n",
      "Probability: 1.0\n"
     ]
    }
   ],
   "source": [
    "predict_note(\"data/test/50/203_sharp.png\")"
   ]
  },
  {
   "cell_type": "code",
   "execution_count": 33,
   "id": "d7c78d3f-572b-4bb0-8529-454d0197198e",
   "metadata": {
    "tags": []
   },
   "outputs": [
    {
     "name": "stdout",
     "output_type": "stream",
     "text": [
      "1/1 [==============================] - 0s 81ms/step\n",
      "Predicted Class: 50\n",
      "Probability: 1.0\n"
     ]
    }
   ],
   "source": [
    "predict_note(\"data/test/50/250_cb.png\")"
   ]
  },
  {
   "cell_type": "code",
   "execution_count": 34,
   "id": "186ae317-b498-4c1b-99eb-4f233bf5f1b8",
   "metadata": {
    "tags": []
   },
   "outputs": [
    {
     "name": "stdout",
     "output_type": "stream",
     "text": [
      "1/1 [==============================] - 0s 71ms/step\n",
      "Predicted Class: 100\n",
      "Probability: 1.0\n"
     ]
    }
   ],
   "source": [
    "predict_note(\"data/test/100/155.png\")"
   ]
  },
  {
   "cell_type": "code",
   "execution_count": 35,
   "id": "cb8140fd-7dc1-48ca-b992-e19eba12a538",
   "metadata": {
    "tags": []
   },
   "outputs": [
    {
     "name": "stdout",
     "output_type": "stream",
     "text": [
      "1/1 [==============================] - 0s 80ms/step\n",
      "Predicted Class: 100\n",
      "Probability: 1.0\n"
     ]
    }
   ],
   "source": [
    "predict_note(\"data/test/100/194.png\")"
   ]
  },
  {
   "cell_type": "code",
   "execution_count": 36,
   "id": "ffe90f1e-2e92-4be2-8d80-61687fa2a5ea",
   "metadata": {
    "tags": []
   },
   "outputs": [
    {
     "name": "stdout",
     "output_type": "stream",
     "text": [
      "1/1 [==============================] - 0s 71ms/step\n",
      "Predicted Class: 200\n",
      "Probability: 1.0\n"
     ]
    }
   ],
   "source": [
    "predict_note(\"data/test/200/142_sharp.png\")"
   ]
  },
  {
   "cell_type": "code",
   "execution_count": 37,
   "id": "c619c118-89b7-4b69-b26a-a20f567c6595",
   "metadata": {
    "tags": []
   },
   "outputs": [
    {
     "name": "stdout",
     "output_type": "stream",
     "text": [
      "1/1 [==============================] - 0s 63ms/step\n",
      "Predicted Class: 200\n",
      "Probability: 1.0\n"
     ]
    }
   ],
   "source": [
    "predict_note(\"data/test/200/150.png\")"
   ]
  },
  {
   "cell_type": "code",
   "execution_count": 38,
   "id": "ef9e6c49-ab6f-44c8-9b36-11e8570cccc3",
   "metadata": {
    "tags": []
   },
   "outputs": [
    {
     "name": "stdout",
     "output_type": "stream",
     "text": [
      "1/1 [==============================] - 0s 77ms/step\n",
      "Predicted Class: 500\n",
      "Probability: 1.0\n"
     ]
    }
   ],
   "source": [
    "predict_note(\"data/test/500/99_sharp.png\")"
   ]
  },
  {
   "cell_type": "code",
   "execution_count": 39,
   "id": "0e8f2e2c-e007-49a6-9443-dcff9d5110fa",
   "metadata": {
    "tags": []
   },
   "outputs": [
    {
     "name": "stdout",
     "output_type": "stream",
     "text": [
      "1/1 [==============================] - 0s 63ms/step\n",
      "Predicted Class: 200\n",
      "Probability: 1.0\n"
     ]
    }
   ],
   "source": [
    "predict_note(\"data/test/500/96.png\")"
   ]
  },
  {
   "cell_type": "code",
   "execution_count": 40,
   "id": "edcfd6df-cae9-480f-94f0-af8d5bb366ef",
   "metadata": {
    "tags": []
   },
   "outputs": [
    {
     "name": "stdout",
     "output_type": "stream",
     "text": [
      "1/1 [==============================] - 0s 71ms/step\n",
      "Predicted Class: 2000\n",
      "Probability: 1.0\n"
     ]
    }
   ],
   "source": [
    "predict_note(\"data/test/2000/47.png\")"
   ]
  },
  {
   "cell_type": "code",
   "execution_count": 41,
   "id": "521823cc-9544-4359-9016-3fd4c24bdbce",
   "metadata": {
    "tags": []
   },
   "outputs": [
    {
     "name": "stdout",
     "output_type": "stream",
     "text": [
      "1/1 [==============================] - 0s 71ms/step\n",
      "Predicted Class: 2000\n",
      "Probability: 1.0\n"
     ]
    }
   ],
   "source": [
    "predict_note(\"data/test/2000/16.png\")"
   ]
  },
  {
   "cell_type": "code",
   "execution_count": 42,
   "id": "c472151c-6cab-4184-bc32-39619b52c048",
   "metadata": {
    "tags": []
   },
   "outputs": [],
   "source": [
    "from tensorflow.keras.models import load_model"
   ]
  },
  {
   "cell_type": "code",
   "execution_count": 43,
   "id": "64515805-0875-49be-92a1-4747e5e590ec",
   "metadata": {
    "tags": []
   },
   "outputs": [
    {
     "name": "stdout",
     "output_type": "stream",
     "text": [
      "INFO:tensorflow:Assets written to: cnnmodel2\\assets\n"
     ]
    },
    {
     "name": "stderr",
     "output_type": "stream",
     "text": [
      "INFO:tensorflow:Assets written to: cnnmodel2\\assets\n"
     ]
    }
   ],
   "source": [
    "model.save(\"cnnmodel2\")"
   ]
  },
  {
   "cell_type": "code",
   "execution_count": 44,
   "id": "e22690bd-3b08-4215-b66b-d351a59ed5a2",
   "metadata": {
    "tags": []
   },
   "outputs": [],
   "source": [
    "model.save(\"cnnmode3.h5\")"
   ]
  },
  {
   "cell_type": "code",
   "execution_count": null,
   "id": "fa25d358",
   "metadata": {},
   "outputs": [],
   "source": []
  },
  {
   "cell_type": "code",
   "execution_count": 5,
   "id": "ded0a922-fca4-40e6-b050-3d739dba2dc4",
   "metadata": {
    "tags": []
   },
   "outputs": [
    {
     "ename": "NameError",
     "evalue": "name 'checkpoint_path' is not defined",
     "output_type": "error",
     "traceback": [
      "\u001b[1;31m---------------------------------------------------------------------------\u001b[0m",
      "\u001b[1;31mNameError\u001b[0m                                 Traceback (most recent call last)",
      "Cell \u001b[1;32mIn[5], line 1\u001b[0m\n\u001b[1;32m----> 1\u001b[0m new_model \u001b[38;5;241m=\u001b[39m model\u001b[38;5;241m.\u001b[39mload_weights(\u001b[43mcheckpoint_path\u001b[49m)\n",
      "\u001b[1;31mNameError\u001b[0m: name 'checkpoint_path' is not defined"
     ]
    }
   ],
   "source": [
    "new_model = model.load_weights(checkpoint_path)"
   ]
  },
  {
   "cell_type": "code",
   "execution_count": 50,
   "id": "05e631cf-d57b-4b59-986f-b70b090fa4ca",
   "metadata": {
    "tags": []
   },
   "outputs": [
    {
     "name": "stdout",
     "output_type": "stream",
     "text": [
      "1/1 [==============================] - 0s 69ms/step\n",
      "Predicted Class: 2000\n",
      "Probability: 1.0\n"
     ]
    }
   ],
   "source": [
    "predict_note(\"data/test/2000/16.png\")"
   ]
  },
  {
   "cell_type": "code",
   "execution_count": 6,
   "id": "39d77314-6656-4b7e-b85b-e7594e925caf",
   "metadata": {},
   "outputs": [],
   "source": [
    "model_json = model.to_json()\n",
    "with open(\"model.json\", \"w\") as json_file:\n",
    "    json_file.write(model_json)"
   ]
  },
  {
   "cell_type": "code",
   "execution_count": null,
   "id": "6434bc31-9e16-4b52-a822-61246ec78c57",
   "metadata": {},
   "outputs": [],
   "source": []
  }
 ],
 "metadata": {
  "kernelspec": {
   "display_name": "Python 3 (ipykernel)",
   "language": "python",
   "name": "python3"
  },
  "language_info": {
   "codemirror_mode": {
    "name": "ipython",
    "version": 3
   },
   "file_extension": ".py",
   "mimetype": "text/x-python",
   "name": "python",
   "nbconvert_exporter": "python",
   "pygments_lexer": "ipython3",
   "version": "3.11.5"
  }
 },
 "nbformat": 4,
 "nbformat_minor": 5
}
