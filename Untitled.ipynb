{
 "cells": [
  {
   "cell_type": "code",
   "execution_count": 10,
   "id": "925847a7-d634-4f1b-8557-2dfcec6469af",
   "metadata": {
    "tags": []
   },
   "outputs": [],
   "source": [
    "from tensorflow.keras.models import load_model\n",
    "import h5py"
   ]
  },
  {
   "cell_type": "code",
   "execution_count": 11,
   "id": "e5a859f0",
   "metadata": {},
   "outputs": [],
   "source": [
    "model = load_model(\"cnnmodel.h5\")"
   ]
  },
  {
   "cell_type": "code",
   "execution_count": 12,
   "id": "edd8dfdf-f2d3-4be5-b082-f17d2911b596",
   "metadata": {
    "tags": []
   },
   "outputs": [],
   "source": [
    "path = \"predict.jpg\""
   ]
  },
  {
   "cell_type": "code",
   "execution_count": 13,
   "id": "c2988421-0405-4abe-be71-3f5aa082793c",
   "metadata": {},
   "outputs": [
    {
     "name": "stdout",
     "output_type": "stream",
     "text": [
      "Model: \"sequential\"\n",
      "_________________________________________________________________\n",
      " Layer (type)                Output Shape              Param #   \n",
      "=================================================================\n",
      " conv2d (Conv2D)             (None, 150, 150, 128)     3584      \n",
      "                                                                 \n",
      " max_pooling2d (MaxPooling2  (None, 75, 75, 128)       0         \n",
      " D)                                                              \n",
      "                                                                 \n",
      " conv2d_1 (Conv2D)           (None, 25, 25, 64)        73792     \n",
      "                                                                 \n",
      " max_pooling2d_1 (MaxPoolin  (None, 12, 12, 64)        0         \n",
      " g2D)                                                            \n",
      "                                                                 \n",
      " dropout (Dropout)           (None, 12, 12, 64)        0         \n",
      "                                                                 \n",
      " conv2d_2 (Conv2D)           (None, 4, 4, 32)          18464     \n",
      "                                                                 \n",
      " max_pooling2d_2 (MaxPoolin  (None, 2, 2, 32)          0         \n",
      " g2D)                                                            \n",
      "                                                                 \n",
      " dropout_1 (Dropout)         (None, 2, 2, 32)          0         \n",
      "                                                                 \n",
      " dense (Dense)               (None, 2, 2, 32)          1056      \n",
      "                                                                 \n",
      " flatten (Flatten)           (None, 128)               0         \n",
      "                                                                 \n",
      " dense_1 (Dense)             (None, 32)                4128      \n",
      "                                                                 \n",
      " dense_2 (Dense)             (None, 7)                 231       \n",
      "                                                                 \n",
      "=================================================================\n",
      "Total params: 101255 (395.53 KB)\n",
      "Trainable params: 101255 (395.53 KB)\n",
      "Non-trainable params: 0 (0.00 Byte)\n",
      "_________________________________________________________________\n"
     ]
    }
   ],
   "source": [
    "model.summary()"
   ]
  },
  {
   "cell_type": "code",
   "execution_count": 19,
   "id": "d7008aaa",
   "metadata": {},
   "outputs": [
    {
     "ename": "AttributeError",
     "evalue": "'str' object has no attribute 'load_img'",
     "output_type": "error",
     "traceback": [
      "\u001b[1;31m---------------------------------------------------------------------------\u001b[0m",
      "\u001b[1;31mAttributeError\u001b[0m                            Traceback (most recent call last)",
      "Cell \u001b[1;32mIn[19], line 1\u001b[0m\n\u001b[1;32m----> 1\u001b[0m img_pred \u001b[38;5;241m=\u001b[39m \u001b[43mimage\u001b[49m\u001b[38;5;241;43m.\u001b[39;49m\u001b[43mload_img\u001b[49m(path, target_size\u001b[38;5;241m=\u001b[39m(img_height, img_width))\n\u001b[0;32m      2\u001b[0m img_pred \u001b[38;5;241m=\u001b[39m image\u001b[38;5;241m.\u001b[39mimg_to_array(img_pred)\n\u001b[0;32m      3\u001b[0m img \u001b[38;5;241m=\u001b[39m np\u001b[38;5;241m.\u001b[39mexpand_dims(img_pred, axis\u001b[38;5;241m=\u001b[39m\u001b[38;5;241m0\u001b[39m)\n",
      "\u001b[1;31mAttributeError\u001b[0m: 'str' object has no attribute 'load_img'"
     ]
    }
   ],
   "source": [
    "img_pred = image.load_img(path, target_size=(img_height, img_width))\n",
    "img_pred = image.img_to_array(img_pred)\n",
    "img = np.expand_dims(img_pred, axis=0)\n",
    "\n",
    "predictions = model.predict(img)\n",
    "predicted_class_index = np.argmax(predictions)\n",
    "\n",
    "class_labels = [\"10\", \"100\", \"20\", \"200\", \"2000\", \"50\", \"500\"]\n",
    "\n",
    "prediction = class_labels[predicted_class_index]\n",
    "\n",
    "probability = predictions[0][predicted_class_index]\n",
    "\n",
    "print(\"Predicted Class:\", prediction)\n",
    "print(\"Probability:\", probability)"
   ]
  },
  {
   "cell_type": "code",
   "execution_count": null,
   "id": "3083def9",
   "metadata": {},
   "outputs": [],
   "source": []
  }
 ],
 "metadata": {
  "kernelspec": {
   "display_name": "Python 3 (ipykernel)",
   "language": "python",
   "name": "python3"
  },
  "language_info": {
   "codemirror_mode": {
    "name": "ipython",
    "version": 3
   },
   "file_extension": ".py",
   "mimetype": "text/x-python",
   "name": "python",
   "nbconvert_exporter": "python",
   "pygments_lexer": "ipython3",
   "version": "3.11.5"
  }
 },
 "nbformat": 4,
 "nbformat_minor": 5
}
