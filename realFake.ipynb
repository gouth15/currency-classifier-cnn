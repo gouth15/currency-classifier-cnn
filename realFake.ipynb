{
 "cells": [
  {
   "cell_type": "code",
   "execution_count": 2,
   "id": "0da1b14d-39fe-4331-89bf-21ffbe679b3f",
   "metadata": {
    "tags": []
   },
   "outputs": [],
   "source": [
    "import cv2\n",
    "import pytesseract\n",
    "import numpy as np\n",
    "from imutils import contours\n",
    "from sklearn.svm import SVC\n",
    "from sklearn.model_selection import train_test_split\n",
    "from sklearn.metrics import accuracy_score"
   ]
  },
  {
   "cell_type": "code",
   "execution_count": 3,
   "id": "26ace099-d6f4-406a-b3ac-d7b95f537725",
   "metadata": {
    "tags": []
   },
   "outputs": [],
   "source": [
    "def extract_features_from_image(image_path):\n",
    "    image = cv2.imread(image_path)\n",
    "    gray = cv2.cvtColor(image, cv2.COLOR_BGR2GRAY)\n",
    "    gray = cv2.GaussianBlur(gray, (5, 5), 0)\n",
    "\n",
    "    # Use Tesseract OCR to extract text from the image\n",
    "    text = pytesseract.image_to_string(gray, config='--psm 6')\n",
    "    \n",
    "    return text"
   ]
  },
  {
   "cell_type": "code",
   "execution_count": 4,
   "id": "3e0100c9-e46e-481b-a249-118192300c01",
   "metadata": {
    "tags": []
   },
   "outputs": [],
   "source": [
    "def train_svm_classifier(features, labels):\n",
    "    X_train, X_test, y_train, y_test = train_test_split(features, labels, test_size=0.2, random_state=42)\n",
    "    classifier = SVC(kernel='linear', C=1.0, random_state=42)\n",
    "    classifier.fit(X_train, y_train)\n",
    "    \n",
    "    y_pred = classifier.predict(X_test)\n",
    "    accuracy = accuracy_score(y_test, y_pred)\n",
    "    \n",
    "    return classifier, accuracy"
   ]
  },
  {
   "cell_type": "code",
   "execution_count": 5,
   "id": "95b987ff-cb9b-4804-8329-d658a2551339",
   "metadata": {
    "tags": []
   },
   "outputs": [
    {
     "ename": "error",
     "evalue": "OpenCV(4.8.1) D:\\a\\opencv-python\\opencv-python\\opencv\\modules\\imgproc\\src\\color.cpp:182: error: (-215:Assertion failed) !_src.empty() in function 'cv::cvtColor'\n",
     "output_type": "error",
     "traceback": [
      "\u001b[1;31m---------------------------------------------------------------------------\u001b[0m",
      "\u001b[1;31merror\u001b[0m                                     Traceback (most recent call last)",
      "Cell \u001b[1;32mIn[5], line 7\u001b[0m\n\u001b[0;32m      4\u001b[0m fake_image_path \u001b[38;5;241m=\u001b[39m \u001b[38;5;124m'\u001b[39m\u001b[38;5;124mfake_currency.jpg\u001b[39m\u001b[38;5;124m'\u001b[39m\n\u001b[0;32m      6\u001b[0m \u001b[38;5;66;03m# Extract features from the images\u001b[39;00m\n\u001b[1;32m----> 7\u001b[0m genuine_features \u001b[38;5;241m=\u001b[39m \u001b[43mextract_features_from_image\u001b[49m\u001b[43m(\u001b[49m\u001b[43mgenuine_image_path\u001b[49m\u001b[43m)\u001b[49m\n\u001b[0;32m      8\u001b[0m fake_features \u001b[38;5;241m=\u001b[39m extract_features_from_image(fake_image_path)\n\u001b[0;32m     10\u001b[0m \u001b[38;5;66;03m# Create labels (1 for genuine, 0 for fake)\u001b[39;00m\n",
      "Cell \u001b[1;32mIn[3], line 3\u001b[0m, in \u001b[0;36mextract_features_from_image\u001b[1;34m(image_path)\u001b[0m\n\u001b[0;32m      1\u001b[0m \u001b[38;5;28;01mdef\u001b[39;00m \u001b[38;5;21mextract_features_from_image\u001b[39m(image_path):\n\u001b[0;32m      2\u001b[0m     image \u001b[38;5;241m=\u001b[39m cv2\u001b[38;5;241m.\u001b[39mimread(image_path)\n\u001b[1;32m----> 3\u001b[0m     gray \u001b[38;5;241m=\u001b[39m \u001b[43mcv2\u001b[49m\u001b[38;5;241;43m.\u001b[39;49m\u001b[43mcvtColor\u001b[49m\u001b[43m(\u001b[49m\u001b[43mimage\u001b[49m\u001b[43m,\u001b[49m\u001b[43m \u001b[49m\u001b[43mcv2\u001b[49m\u001b[38;5;241;43m.\u001b[39;49m\u001b[43mCOLOR_BGR2GRAY\u001b[49m\u001b[43m)\u001b[49m\n\u001b[0;32m      4\u001b[0m     gray \u001b[38;5;241m=\u001b[39m cv2\u001b[38;5;241m.\u001b[39mGaussianBlur(gray, (\u001b[38;5;241m5\u001b[39m, \u001b[38;5;241m5\u001b[39m), \u001b[38;5;241m0\u001b[39m)\n\u001b[0;32m      6\u001b[0m     \u001b[38;5;66;03m# Use Tesseract OCR to extract text from the image\u001b[39;00m\n",
      "\u001b[1;31merror\u001b[0m: OpenCV(4.8.1) D:\\a\\opencv-python\\opencv-python\\opencv\\modules\\imgproc\\src\\color.cpp:182: error: (-215:Assertion failed) !_src.empty() in function 'cv::cvtColor'\n"
     ]
    }
   ],
   "source": [
    "if __name__ == '__main__':\n",
    "    # Sample genuine and fake currency image paths\n",
    "    genuine_image_path = 'genuine_currency.jpg'\n",
    "    fake_image_path = 'fake_currency.jpg'\n",
    "    \n",
    "    # Extract features from the images\n",
    "    genuine_features = extract_features_from_image(genuine_image_path)\n",
    "    fake_features = extract_features_from_image(fake_image_path)\n",
    "    \n",
    "    # Create labels (1 for genuine, 0 for fake)\n",
    "    genuine_label = 1\n",
    "    fake_label = 0\n",
    "    \n",
    "    # Train an SVM classifier using the extracted features\n",
    "    features = [genuine_features, fake_features]\n",
    "    labels = [genuine_label, fake_label]\n",
    "    \n",
    "    classifier, accuracy = train_svm_classifier(features, labels)\n",
    "    \n",
    "    # Predict the authenticity of a new currency image\n",
    "    new_currency_image_path = 'new_currency.jpg'\n",
    "    new_features = extract_features_from_image(new_currency_image_path)\n",
    "    prediction = classifier.predict([new_features])[0]\n",
    "    \n",
    "    if prediction == 1:\n",
    "        print(\"The currency is genuine.\")\n",
    "    else:\n",
    "        print(\"The currency is likely fake.\")\n",
    "\n",
    "    print(f\"Classifier Accuracy: {accuracy}\")"
   ]
  },
  {
   "cell_type": "code",
   "execution_count": null,
   "id": "b6e447bd-0d52-4fe1-8481-487c082fa295",
   "metadata": {},
   "outputs": [],
   "source": []
  }
 ],
 "metadata": {
  "kernelspec": {
   "display_name": "Python 3 (ipykernel)",
   "language": "python",
   "name": "python3"
  },
  "language_info": {
   "codemirror_mode": {
    "name": "ipython",
    "version": 3
   },
   "file_extension": ".py",
   "mimetype": "text/x-python",
   "name": "python",
   "nbconvert_exporter": "python",
   "pygments_lexer": "ipython3",
   "version": "3.11.5"
  }
 },
 "nbformat": 4,
 "nbformat_minor": 5
}
